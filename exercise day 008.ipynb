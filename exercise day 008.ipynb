{
 "cells": [
  {
   "cell_type": "markdown",
   "metadata": {},
   "source": [
    "## Exercise day 8"
   ]
  },
  {
   "cell_type": "code",
   "execution_count": 1,
   "metadata": {},
   "outputs": [
    {
     "name": "stdout",
     "output_type": "stream",
     "text": [
      "...........................Exercise Level 1 (Q. 1)............................\n",
      "{}\n"
     ]
    }
   ],
   "source": [
    "print(\"...........................Exercise Level 1 (Q. 1)............................\")\n",
    "dog = {}\n",
    "print(dog)"
   ]
  },
  {
   "cell_type": "code",
   "execution_count": 2,
   "metadata": {},
   "outputs": [
    {
     "name": "stdout",
     "output_type": "stream",
     "text": [
      "............................................(Q. 2)............................\n",
      "set(['color', 'legs', 'age', 'breed'])\n"
     ]
    }
   ],
   "source": [
    "print(\"............................................(Q. 2)............................\")\n",
    "dog = {'color', 'breed', 'legs', 'age'}\n",
    "print (dog)\n"
   ]
  },
  {
   "cell_type": "code",
   "execution_count": 3,
   "metadata": {},
   "outputs": [
    {
     "name": "stdout",
     "output_type": "stream",
     "text": [
      "............................................(Q. 3)............................\n",
      "{'city': 'Hadejia', 'first_name': 'Fatima', 'last_name': 'Usman', 'country': 'Nigeria', 'skills': ['Python'], 'gender': 'Female', 'age': 26, 'marital_status': 'Married', 'address': 'GRA Hadejia'}\n"
     ]
    }
   ],
   "source": [
    "print(\"............................................(Q. 3)............................\")\n",
    "student = {\n",
    "    'first_name': 'Fatima',\n",
    "    'last_name': 'Usman',\n",
    "    'gender': 'Female',\n",
    "    'age': 26,\n",
    "    'marital_status': 'Married',\n",
    "    'skills': ['Python'],\n",
    "    'country': 'Nigeria',\n",
    "    'city': 'Hadejia',\n",
    "    'address': 'GRA Hadejia'\n",
    "}\n",
    "print(student)"
   ]
  },
  {
   "cell_type": "code",
   "execution_count": 4,
   "metadata": {},
   "outputs": [
    {
     "name": "stdout",
     "output_type": "stream",
     "text": [
      "............................................(Q. 4)............................\n",
      "9\n"
     ]
    }
   ],
   "source": [
    "print(\"............................................(Q. 4)............................\")\n",
    "students_length = len(student)\n",
    "print(students_length)\n"
   ]
  },
  {
   "cell_type": "code",
   "execution_count": 5,
   "metadata": {},
   "outputs": [
    {
     "name": "stdout",
     "output_type": "stream",
     "text": [
      "............................................(Q. 5)............................\n",
      "['Python']\n",
      "<type 'list'>\n"
     ]
    }
   ],
   "source": [
    "print(\"............................................(Q. 5)............................\")\n",
    "skills = student['skills']\n",
    "print(skills)\n",
    "print(type(skills))\n"
   ]
  },
  {
   "cell_type": "code",
   "execution_count": 6,
   "metadata": {},
   "outputs": [
    {
     "name": "stdout",
     "output_type": "stream",
     "text": [
      "............................................(Q. 6)............................\n",
      "('Data Visualization', 'SQL')\n"
     ]
    }
   ],
   "source": [
    "print(\"............................................(Q. 6)............................\")\n",
    "student['skills'] = 'Data Visualization', 'SQL'\n",
    "print(student['skills'])\n"
   ]
  },
  {
   "cell_type": "code",
   "execution_count": 7,
   "metadata": {},
   "outputs": [
    {
     "name": "stdout",
     "output_type": "stream",
     "text": [
      "............................................(Q. 8)............................\n",
      "['city', 'first_name', 'last_name', 'country', 'skills', 'gender', 'age', 'marital_status', 'address']\n"
     ]
    }
   ],
   "source": [
    "print(\"............................................(Q. 8)............................\")\n",
    "student_keys = list(student.keys())\n",
    "print(student_keys)"
   ]
  },
  {
   "cell_type": "code",
   "execution_count": 8,
   "metadata": {},
   "outputs": [
    {
     "name": "stdout",
     "output_type": "stream",
     "text": [
      "............................................(Q. 9)............................\n",
      "['Hadejia', 'Fatima', 'Usman', 'Nigeria', ('Data Visualization', 'SQL'), 'Female', 26, 'Married', 'GRA Hadejia']\n"
     ]
    }
   ],
   "source": [
    "print(\"............................................(Q. 9)............................\")\n",
    "student_values = list(student.values())\n",
    "print(student_values)\n"
   ]
  },
  {
   "cell_type": "code",
   "execution_count": 9,
   "metadata": {},
   "outputs": [
    {
     "name": "stdout",
     "output_type": "stream",
     "text": [
      "............................................(Q. 10)............................\n",
      "[('city', 'Hadejia'), ('first_name', 'Fatima'), ('last_name', 'Usman'), ('country', 'Nigeria'), ('skills', ('Data Visualization', 'SQL')), ('gender', 'Female'), ('age', 26), ('marital_status', 'Married'), ('address', 'GRA Hadejia')]\n"
     ]
    }
   ],
   "source": [
    "print(\"............................................(Q. 10)............................\")\n",
    "student_list = list(student.items())\n",
    "print(student_list)"
   ]
  },
  {
   "cell_type": "code",
   "execution_count": 10,
   "metadata": {},
   "outputs": [
    {
     "name": "stdout",
     "output_type": "stream",
     "text": [
      "............................................(Q. 11)............................\n",
      "{'city': 'Hadejia', 'first_name': 'Fatima', 'last_name': 'Usman', 'country': 'Nigeria', 'skills': ('Data Visualization', 'SQL'), 'gender': 'Female', 'age': 26, 'marital_status': 'Married'}\n"
     ]
    }
   ],
   "source": [
    "print(\"............................................(Q. 11)............................\")\n",
    "del student['address']\n",
    "print(student)"
   ]
  },
  {
   "cell_type": "code",
   "execution_count": 11,
   "metadata": {},
   "outputs": [
    {
     "name": "stdout",
     "output_type": "stream",
     "text": [
      "............................................(Q. 11)............................\n"
     ]
    }
   ],
   "source": [
    "print(\"............................................(Q. 11)............................\")\n",
    "del dog"
   ]
  },
  {
   "cell_type": "code",
   "execution_count": null,
   "metadata": {},
   "outputs": [],
   "source": []
  }
 ],
 "metadata": {
  "kernelspec": {
   "display_name": "Python 2",
   "language": "python",
   "name": "python2"
  },
  "language_info": {
   "codemirror_mode": {
    "name": "ipython",
    "version": 2
   },
   "file_extension": ".py",
   "mimetype": "text/x-python",
   "name": "python",
   "nbconvert_exporter": "python",
   "pygments_lexer": "ipython2",
   "version": "2.7.16"
  }
 },
 "nbformat": 4,
 "nbformat_minor": 2
}
