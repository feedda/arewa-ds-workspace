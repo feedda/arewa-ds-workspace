{
 "cells": [
  {
   "cell_type": "markdown",
   "metadata": {},
   "source": [
    "## Eercise day 11"
   ]
  },
  {
   "cell_type": "code",
   "execution_count": 1,
   "metadata": {},
   "outputs": [
    {
     "name": "stdout",
     "output_type": "stream",
     "text": [
      "...................Exercise Level 1 (Q.1).............................\n",
      "16\n"
     ]
    }
   ],
   "source": [
    "print(\"...................Exercise Level 1 (Q.1).............................\")\n",
    "\n",
    "def add_two_numbers (num_one, num_two):\n",
    "    sum = num_one + num_two\n",
    "    return sum\n",
    "print(add_two_numbers(5,11))"
   ]
  },
  {
   "cell_type": "code",
   "execution_count": 2,
   "metadata": {},
   "outputs": [
    {
     "name": "stdout",
     "output_type": "stream",
     "text": [
      ".................................(Q.2)................................\n",
      "78.5398163397\n"
     ]
    }
   ],
   "source": [
    "print(\".................................(Q.2)................................\")\n",
    "def area_of_circle(radius):\n",
    "    pi = 3.14159265358979323846\n",
    "    return pi * radius * radius\n",
    "print(area_of_circle (5))"
   ]
  },
  {
   "cell_type": "code",
   "execution_count": 3,
   "metadata": {},
   "outputs": [
    {
     "name": "stdout",
     "output_type": "stream",
     "text": [
      ".................................(Q.3)................................\n",
      "10\n"
     ]
    }
   ],
   "source": [
    "print(\".................................(Q.3)................................\")\n",
    "def add_all_nums(*args):\n",
    "    sum = 0\n",
    "    for arg in args:\n",
    "        if isinstance(arg, (int, float)):\n",
    "            sum += arg\n",
    "        else:\n",
    "            return \"One of the arguments is not a number.\"\n",
    "    return sum\n",
    "print(add_all_nums(3,7))"
   ]
  },
  {
   "cell_type": "code",
   "execution_count": 4,
   "metadata": {},
   "outputs": [
    {
     "name": "stdout",
     "output_type": "stream",
     "text": [
      ".................................(Q.4)................................\n",
      "86\n"
     ]
    }
   ],
   "source": [
    "print(\".................................(Q.4)................................\")\n",
    "def convert_celsius_to_fahrenheit(celsius_temp):\n",
    "    return (celsius_temp * 9/5) + 32\n",
    "print(convert_celsius_to_fahrenheit(30))\n"
   ]
  },
  {
   "cell_type": "code",
   "execution_count": 5,
   "metadata": {},
   "outputs": [
    {
     "name": "stdout",
     "output_type": "stream",
     "text": [
      ".................................(Q.5)................................\n",
      "Spring\n"
     ]
    }
   ],
   "source": [
    "print(\".................................(Q.5)................................\")\n",
    "def check_season(month):\n",
    "    if month >= 3 and month <= 5:\n",
    "        return \"Spring\"\n",
    "    elif month >= 6 and month <= 8:\n",
    "        return \"Summer\"\n",
    "    elif month >= 9 and month <= 11:\n",
    "        return \"Autumn\"\n",
    "    else:\n",
    "        return \"Winter\"\n",
    "print(check_season(4))"
   ]
  },
  {
   "cell_type": "code",
   "execution_count": 7,
   "metadata": {},
   "outputs": [
    {
     "name": "stdout",
     "output_type": "stream",
     "text": [
      ".................................(Q.6)................................\n",
      "1\n"
     ]
    }
   ],
   "source": [
    "print(\".................................(Q.6)................................\")\n",
    "def calculate_slope(x1, y1, x2, y2):\n",
    "    return (y2 - y1) / (x2 - x1)\n",
    "print(calculate_slope(15, 25, 40, 52))\n"
   ]
  },
  {
   "cell_type": "code",
   "execution_count": 8,
   "metadata": {},
   "outputs": [
    {
     "name": "stdout",
     "output_type": "stream",
     "text": [
      ".................................(Q.7)................................\n",
      "((-2+1.5612494995995996j), (-2-1.5612494995995996j))\n"
     ]
    }
   ],
   "source": [
    "print(\".................................(Q.7)................................\")\n",
    "import math\n",
    "\n",
    "def solve_quadratic_eqn(a, b, c):\n",
    "    discriminant = b**2 - 4*a*c\n",
    "    if discriminant > 0:\n",
    "        x1 = (-b + math.sqrt(discriminant)) / (2*a)\n",
    "        x2 = (-b - math.sqrt(discriminant)) / (2*a)\n",
    "        return x1, x2\n",
    "    elif discriminant == 0:\n",
    "        x = -b / (2*a)\n",
    "        return x,\n",
    "    else:\n",
    "        real = -b / (2*a)\n",
    "        imag = math.sqrt(-discriminant) / (2*a)\n",
    "        return real + imag*1j, real - imag*1j\n",
    "print(solve_quadratic_eqn(2,5,8))"
   ]
  },
  {
   "cell_type": "code",
   "execution_count": 9,
   "metadata": {},
   "outputs": [
    {
     "name": "stdout",
     "output_type": "stream",
     "text": [
      ".................................(Q.8)................................\n",
      "1\n",
      "2\n",
      "3\n",
      "4\n",
      "5\n"
     ]
    }
   ],
   "source": [
    "print(\".................................(Q.8)................................\")\n",
    "def print_list(input_list):\n",
    "    for element in input_list:\n",
    "        print(element)\n",
    "#You can call this function by passing a list as an argument, for example\n",
    "my_list = [1, 2, 3, 4, 5]\n",
    "print_list(my_list)\n"
   ]
  },
  {
   "cell_type": "code",
   "execution_count": 10,
   "metadata": {},
   "outputs": [
    {
     "name": "stdout",
     "output_type": "stream",
     "text": [
      ".................................(Q.9)................................\n",
      "[5, 4, 3, 2, 1]\n",
      "['C', 'B', 'A']\n"
     ]
    }
   ],
   "source": [
    "print(\".................................(Q.9)................................\")\n",
    "def reverse_list(input_list):\n",
    "    reversed_list = []\n",
    "    for i in range(len(input_list) - 1, -1, -1):\n",
    "        reversed_list.append(input_list[i])\n",
    "    return reversed_list\n",
    "print(reverse_list([1, 2, 3, 4, 5]))\n",
    "print(reverse_list([\"A\", \"B\", \"C\"]))\n"
   ]
  },
  {
   "cell_type": "code",
   "execution_count": 11,
   "metadata": {},
   "outputs": [
    {
     "name": "stdout",
     "output_type": "stream",
     "text": [
      ".................................(Q.10)................................\n",
      "['Apple', 'Banana', 'Cherry']\n",
      "['Hello', 'World']\n"
     ]
    }
   ],
   "source": [
    "print(\".................................(Q.10)................................\")\n",
    "def capitalize_list_items(input_list):\n",
    "    capitalized_list = []\n",
    "    for item in input_list:\n",
    "        capitalized_list.append(item.capitalize())\n",
    "    return capitalized_list\n",
    "#You can call this function by passing a list as an argument, for example:\n",
    "print(capitalize_list_items([\"apple\", \"banana\", \"cherry\"]))\n",
    "print(capitalize_list_items([\"HELLO\", \"WORLD\"]))\n"
   ]
  },
  {
   "cell_type": "code",
   "execution_count": 12,
   "metadata": {},
   "outputs": [
    {
     "name": "stdout",
     "output_type": "stream",
     "text": [
      ".................................(Q.11)................................\n",
      "['Potato', 'Tomato', 'Mango', 'Milk', 'Meat']\n",
      "[2, 3, 7, 9, 5]\n"
     ]
    }
   ],
   "source": [
    "print(\".................................(Q.11)................................\")\n",
    "def add_item(list, item):\n",
    "    list.append(item)\n",
    "    return list\n",
    "#And then, you can use the function as follows:\n",
    "food_staff = ['Potato', 'Tomato', 'Mango', 'Milk']\n",
    "print(add_item(food_staff, 'Meat'))\n",
    "numbers = [2, 3, 7, 9]\n",
    "print(add_item(numbers, 5))\n"
   ]
  },
  {
   "cell_type": "code",
   "execution_count": 13,
   "metadata": {},
   "outputs": [
    {
     "name": "stdout",
     "output_type": "stream",
     "text": [
      ".................................(Q.12)................................\n",
      "['Potato', 'Tomato', 'Milk', 'Meat']\n",
      "[2, 7, 9, 5]\n"
     ]
    }
   ],
   "source": [
    "print(\".................................(Q.12)................................\")\n",
    "def remove_item(list, item):\n",
    "    list.remove(item)\n",
    "    return list\n",
    "print(remove_item(food_staff, 'Mango'))\n",
    "print(remove_item(numbers, 3))"
   ]
  },
  {
   "cell_type": "code",
   "execution_count": 14,
   "metadata": {},
   "outputs": [
    {
     "name": "stdout",
     "output_type": "stream",
     "text": [
      ".................................(Q.13)................................\n",
      "15\n",
      "55\n",
      "5050\n"
     ]
    }
   ],
   "source": [
    "print(\".................................(Q.13)................................\")\n",
    "def sum_of_numbers(number):\n",
    "    return sum(range(1, number + 1))\n",
    "print(sum_of_numbers(5))\n",
    "print(sum_of_numbers(10))\n",
    "print(sum_of_numbers(100))"
   ]
  },
  {
   "cell_type": "code",
   "execution_count": 15,
   "metadata": {},
   "outputs": [
    {
     "name": "stdout",
     "output_type": "stream",
     "text": [
      ".................................(Q.14)................................\n",
      "9\n",
      "25\n"
     ]
    }
   ],
   "source": [
    "print(\".................................(Q.14)................................\")\n",
    "def sum_of_odds(number):\n",
    "    return sum([x for x in range(1, number + 1) if x % 2 != 0])\n",
    "print(sum_of_odds(5))\n",
    "print(sum_of_odds(10))"
   ]
  },
  {
   "cell_type": "code",
   "execution_count": 16,
   "metadata": {},
   "outputs": [
    {
     "name": "stdout",
     "output_type": "stream",
     "text": [
      ".................................(Q.15)................................\n",
      "2550\n",
      "30\n"
     ]
    }
   ],
   "source": [
    "print(\".................................(Q.15)................................\")\n",
    "def sum_of_even(number):\n",
    "    return sum([x for x in range(1, number + 1) if x % 2 == 0])\n",
    "print(sum_of_even(100))\n",
    "print(sum_of_even(10))\n"
   ]
  },
  {
   "cell_type": "code",
   "execution_count": 17,
   "metadata": {},
   "outputs": [
    {
     "ename": "SyntaxError",
     "evalue": "invalid syntax (<ipython-input-17-d8883ef77338>, line 10)",
     "output_type": "error",
     "traceback": [
      "\u001b[1;36m  File \u001b[1;32m\"<ipython-input-17-d8883ef77338>\"\u001b[1;36m, line \u001b[1;32m10\u001b[0m\n\u001b[1;33m    return f\"The number of odds are {odds}.\\nThe number of evens are {evens}.\"\u001b[0m\n\u001b[1;37m                                                                             ^\u001b[0m\n\u001b[1;31mSyntaxError\u001b[0m\u001b[1;31m:\u001b[0m invalid syntax\n"
     ]
    }
   ],
   "source": [
    "print(\"...................Exercise Level 2 (Q.1)..............................\")\n",
    "def evens_and_odds(number):\n",
    "    evens = 0\n",
    "    odds = 0\n",
    "    for i in range(1, number + 1):\n",
    "        if i % 2 == 0:\n",
    "            evens += 1\n",
    "        else:\n",
    "            odds += 1\n",
    "    return f\"The number of odds are {odds}.\\nThe number of evens are {evens}.\"\n",
    "print(evens_and_odds(100))\n"
   ]
  },
  {
   "cell_type": "code",
   "execution_count": 18,
   "metadata": {},
   "outputs": [
    {
     "name": "stdout",
     "output_type": "stream",
     "text": [
      ".................................(Q.2)................................\n",
      "120\n",
      "3628800\n",
      "1\n"
     ]
    }
   ],
   "source": [
    "print(\".................................(Q.2)................................\")\n",
    "def factorial(number):\n",
    "    result = 1\n",
    "    for i in range(1, number + 1):\n",
    "        result *= i\n",
    "    return result\n",
    "print(factorial(5))\n",
    "print(factorial(10))\n",
    "print(factorial(1))"
   ]
  },
  {
   "cell_type": "code",
   "execution_count": 19,
   "metadata": {},
   "outputs": [
    {
     "name": "stdout",
     "output_type": "stream",
     "text": [
      ".................................(Q.3)................................\n",
      "True\n",
      "False\n",
      "True\n",
      "False\n"
     ]
    }
   ],
   "source": [
    "print(\".................................(Q.3)................................\")\n",
    "def is_empty(param):\n",
    "    return len(param) == 0\n",
    "print(is_empty(\"\"))\n",
    "print(is_empty(\"Hello World\"))\n",
    "print(is_empty([]))\n",
    "print(is_empty([1, 2, 3, 4]))\n"
   ]
  },
  {
   "cell_type": "code",
   "execution_count": 21,
   "metadata": {},
   "outputs": [
    {
     "name": "stdout",
     "output_type": "stream",
     "text": [
      ".................................(Q.4................................\n"
     ]
    },
    {
     "ename": "ImportError",
     "evalue": "No module named statistics",
     "output_type": "error",
     "traceback": [
      "\u001b[1;31m---------------------------------------------------------------------------\u001b[0m",
      "\u001b[1;31mImportError\u001b[0m                               Traceback (most recent call last)",
      "\u001b[1;32m<ipython-input-21-208b88f08a39>\u001b[0m in \u001b[0;36m<module>\u001b[1;34m()\u001b[0m\n\u001b[0;32m      1\u001b[0m \u001b[1;32mprint\u001b[0m\u001b[1;33m(\u001b[0m\u001b[1;34m\".................................(Q.4................................\"\u001b[0m\u001b[1;33m)\u001b[0m\u001b[1;33m\u001b[0m\u001b[0m\n\u001b[1;32m----> 2\u001b[1;33m \u001b[1;32mimport\u001b[0m \u001b[0mstatistics\u001b[0m\u001b[1;33m\u001b[0m\u001b[0m\n\u001b[0m\u001b[0;32m      3\u001b[0m \u001b[1;33m\u001b[0m\u001b[0m\n\u001b[0;32m      4\u001b[0m \u001b[1;32mdef\u001b[0m \u001b[0mcalculate_mean\u001b[0m\u001b[1;33m(\u001b[0m\u001b[0mnumbers\u001b[0m\u001b[1;33m)\u001b[0m\u001b[1;33m:\u001b[0m\u001b[1;33m\u001b[0m\u001b[0m\n\u001b[0;32m      5\u001b[0m     \u001b[1;32mreturn\u001b[0m \u001b[0msum\u001b[0m\u001b[1;33m(\u001b[0m\u001b[0mnumbers\u001b[0m\u001b[1;33m)\u001b[0m \u001b[1;33m/\u001b[0m \u001b[0mlen\u001b[0m\u001b[1;33m(\u001b[0m\u001b[0mnumbers\u001b[0m\u001b[1;33m)\u001b[0m\u001b[1;33m\u001b[0m\u001b[0m\n",
      "\u001b[1;31mImportError\u001b[0m: No module named statistics"
     ]
    }
   ],
   "source": [
    "print(\".................................(Q.4................................\")\n",
    "import statistics\n",
    "\n",
    "def calculate_mean(numbers):\n",
    "    return sum(numbers) / len(numbers)\n",
    "\n",
    "def calculate_median(numbers):\n",
    "    return statistics.median(numbers)\n",
    "\n",
    "def calculate_mode(numbers):\n",
    "    return statistics.mode(numbers)\n",
    "\n",
    "def calculate_range(numbers):\n",
    "    return max(numbers) - min(numbers)\n",
    "\n",
    "def calculate_variance(numbers):\n",
    "    mean = calculate_mean(numbers)\n",
    "    return sum((x - mean) ** 2 for x in numbers) / len(numbers)\n",
    "\n",
    "def calculate_std(numbers):\n",
    "    return calculate_variance(numbers) ** 0.5\n",
    "\n",
    "numbers = [1, 2, 3, 4, 5, 5, 6, 7, 8, 9, 9, 9]\n",
    "\n",
    "print(calculate_mean(numbers))\n",
    "print(calculate_median(numbers))\n",
    "print(calculate_mode(numbers))\n",
    "print(calculate_range(numbers))\n",
    "print(calculate_variance(numbers))\n",
    "print(calculate_std(numbers))\n",
    "\n"
   ]
  },
  {
   "cell_type": "code",
   "execution_count": 22,
   "metadata": {},
   "outputs": [
    {
     "name": "stdout",
     "output_type": "stream",
     "text": [
      "...................Exercise Level 3 (Q.1).............................\n",
      "True\n"
     ]
    }
   ],
   "source": [
    "print(\"...................Exercise Level 3 (Q.1).............................\")\n",
    "def is_prime(num):\n",
    "    if num < 2:\n",
    "        return False\n",
    "    for i in range(2, int(num ** 0.5) + 1):\n",
    "        if num % i == 0:\n",
    "            return False\n",
    "    return True\n",
    "print(is_prime (2))"
   ]
  },
  {
   "cell_type": "code",
   "execution_count": 23,
   "metadata": {},
   "outputs": [
    {
     "name": "stdout",
     "output_type": "stream",
     "text": [
      ".................................(Q.2)................................\n",
      "True\n",
      "False\n"
     ]
    }
   ],
   "source": [
    "print(\".................................(Q.2)................................\")\n",
    "def are_all_items_unique(lst):\n",
    "    return len(lst) == len(set(lst))\n",
    "print(are_all_items_unique([1, 2, 3, 4, 5]))\n",
    "print(are_all_items_unique([1, 2, 3, 4, 5, 5]))\n"
   ]
  },
  {
   "cell_type": "code",
   "execution_count": 24,
   "metadata": {},
   "outputs": [
    {
     "name": "stdout",
     "output_type": "stream",
     "text": [
      ".................................(Q.3)................................\n",
      "True\n",
      "False\n"
     ]
    }
   ],
   "source": [
    "print(\".................................(Q.3)................................\")\n",
    "def are_all_items_of_same_type(lst):\n",
    "    return all(isinstance(item, type(lst[0])) for item in lst)\n",
    "print(are_all_items_of_same_type([1, 2, 3, 4, 5]))\n",
    "print(are_all_items_of_same_type([1, 2, 3, 4, \"5\"]))\n"
   ]
  },
  {
   "cell_type": "code",
   "execution_count": 25,
   "metadata": {},
   "outputs": [
    {
     "name": "stdout",
     "output_type": "stream",
     "text": [
      ".................................(Q.4)................................\n"
     ]
    },
    {
     "ename": "AttributeError",
     "evalue": "'str' object has no attribute 'isidentifier'",
     "output_type": "error",
     "traceback": [
      "\u001b[1;31m---------------------------------------------------------------------------\u001b[0m",
      "\u001b[1;31mAttributeError\u001b[0m                            Traceback (most recent call last)",
      "\u001b[1;32m<ipython-input-25-1f205b8bde40>\u001b[0m in \u001b[0;36m<module>\u001b[1;34m()\u001b[0m\n\u001b[0;32m      5\u001b[0m         \u001b[1;32mreturn\u001b[0m \u001b[0mFalse\u001b[0m\u001b[1;33m\u001b[0m\u001b[0m\n\u001b[0;32m      6\u001b[0m     \u001b[1;32mreturn\u001b[0m \u001b[0mTrue\u001b[0m\u001b[1;33m\u001b[0m\u001b[0m\n\u001b[1;32m----> 7\u001b[1;33m \u001b[1;32mprint\u001b[0m\u001b[1;33m(\u001b[0m\u001b[0mis_valid_variable_name\u001b[0m\u001b[1;33m(\u001b[0m\u001b[1;34m\"_valid_variable_name\"\u001b[0m\u001b[1;33m)\u001b[0m\u001b[1;33m)\u001b[0m\u001b[1;33m\u001b[0m\u001b[0m\n\u001b[0m\u001b[0;32m      8\u001b[0m \u001b[1;32mprint\u001b[0m\u001b[1;33m(\u001b[0m\u001b[0mis_valid_variable_name\u001b[0m\u001b[1;33m(\u001b[0m\u001b[1;34m\"2invalid\"\u001b[0m\u001b[1;33m)\u001b[0m\u001b[1;33m)\u001b[0m\u001b[1;33m\u001b[0m\u001b[0m\n\u001b[0;32m      9\u001b[0m \u001b[1;32mprint\u001b[0m\u001b[1;33m(\u001b[0m\u001b[0mis_valid_variable_name\u001b[0m\u001b[1;33m(\u001b[0m\u001b[1;34m\"for\"\u001b[0m\u001b[1;33m)\u001b[0m\u001b[1;33m)\u001b[0m\u001b[1;33m\u001b[0m\u001b[0m\n",
      "\u001b[1;32m<ipython-input-25-1f205b8bde40>\u001b[0m in \u001b[0;36mis_valid_variable_name\u001b[1;34m(name)\u001b[0m\n\u001b[0;32m      2\u001b[0m \u001b[1;32mimport\u001b[0m \u001b[0mkeyword\u001b[0m\u001b[1;33m\u001b[0m\u001b[0m\n\u001b[0;32m      3\u001b[0m \u001b[1;32mdef\u001b[0m \u001b[0mis_valid_variable_name\u001b[0m\u001b[1;33m(\u001b[0m\u001b[0mname\u001b[0m\u001b[1;33m)\u001b[0m\u001b[1;33m:\u001b[0m\u001b[1;33m\u001b[0m\u001b[0m\n\u001b[1;32m----> 4\u001b[1;33m     \u001b[1;32mif\u001b[0m \u001b[1;32mnot\u001b[0m \u001b[0mname\u001b[0m\u001b[1;33m.\u001b[0m\u001b[0misidentifier\u001b[0m\u001b[1;33m(\u001b[0m\u001b[1;33m)\u001b[0m \u001b[1;32mor\u001b[0m \u001b[0mkeyword\u001b[0m\u001b[1;33m.\u001b[0m\u001b[0miskeyword\u001b[0m\u001b[1;33m(\u001b[0m\u001b[0mname\u001b[0m\u001b[1;33m)\u001b[0m\u001b[1;33m:\u001b[0m\u001b[1;33m\u001b[0m\u001b[0m\n\u001b[0m\u001b[0;32m      5\u001b[0m         \u001b[1;32mreturn\u001b[0m \u001b[0mFalse\u001b[0m\u001b[1;33m\u001b[0m\u001b[0m\n\u001b[0;32m      6\u001b[0m     \u001b[1;32mreturn\u001b[0m \u001b[0mTrue\u001b[0m\u001b[1;33m\u001b[0m\u001b[0m\n",
      "\u001b[1;31mAttributeError\u001b[0m: 'str' object has no attribute 'isidentifier'"
     ]
    }
   ],
   "source": [
    "print(\".................................(Q.4)................................\")\n",
    "import keyword\n",
    "def is_valid_variable_name(name):\n",
    "    if not name.isidentifier() or keyword.iskeyword(name):\n",
    "        return False\n",
    "    return True\n",
    "print(is_valid_variable_name(\"_valid_variable_name\"))\n",
    "print(is_valid_variable_name(\"2invalid\"))\n",
    "print(is_valid_variable_name(\"for\"))\n",
    "print(is_valid_variable_name(\"validVariableName\"))"
   ]
  },
  {
   "cell_type": "code",
   "execution_count": null,
   "metadata": {},
   "outputs": [],
   "source": []
  }
 ],
 "metadata": {
  "kernelspec": {
   "display_name": "Python 2",
   "language": "python",
   "name": "python2"
  },
  "language_info": {
   "codemirror_mode": {
    "name": "ipython",
    "version": 2
   },
   "file_extension": ".py",
   "mimetype": "text/x-python",
   "name": "python",
   "nbconvert_exporter": "python",
   "pygments_lexer": "ipython2",
   "version": "2.7.16"
  }
 },
 "nbformat": 4,
 "nbformat_minor": 2
}
