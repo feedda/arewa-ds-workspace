{
 "cells": [
  {
   "cell_type": "markdown",
   "metadata": {},
   "source": [
    "## Exercise da 14"
   ]
  },
  {
   "cell_type": "code",
   "execution_count": 1,
   "metadata": {},
   "outputs": [
    {
     "ename": "NameError",
     "evalue": "name 'rint' is not defined",
     "output_type": "error",
     "traceback": [
      "\u001b[1;31m---------------------------------------------------------------------------\u001b[0m",
      "\u001b[1;31mNameError\u001b[0m                                 Traceback (most recent call last)",
      "\u001b[1;32m<ipython-input-1-db81b8784fda>\u001b[0m in \u001b[0;36m<module>\u001b[1;34m()\u001b[0m\n\u001b[1;32m----> 1\u001b[1;33m \u001b[0mrint\u001b[0m\u001b[1;33m(\u001b[0m\u001b[1;34m\"....................Exercise Level 1 (Q.1).............................\"\u001b[0m\u001b[1;33m)\u001b[0m\u001b[1;33m\u001b[0m\u001b[0m\n\u001b[0m\u001b[0;32m      2\u001b[0m \u001b[1;33m\u001b[0m\u001b[0m\n\u001b[0;32m      3\u001b[0m print('''Map: \"Map\" takes an array as input, applies a function to each element \n\u001b[0;32m      4\u001b[0m        \u001b[0mof\u001b[0m \u001b[0mthe\u001b[0m \u001b[0marray\u001b[0m\u001b[1;33m,\u001b[0m \u001b[1;32mand\u001b[0m \u001b[0mreturns\u001b[0m \u001b[0ma\u001b[0m \u001b[0mnew\u001b[0m \u001b[0marray\u001b[0m \u001b[1;32mwith\u001b[0m \u001b[0mthe\u001b[0m \u001b[0mresults\u001b[0m\u001b[1;33m.\u001b[0m \u001b[0mThe\u001b[0m \u001b[0mnew\u001b[0m \u001b[0marray\u001b[0m\u001b[1;33m\u001b[0m\u001b[0m\n\u001b[0;32m      5\u001b[0m        \u001b[0mwill\u001b[0m \u001b[0mhave\u001b[0m \u001b[0mthe\u001b[0m \u001b[0msame\u001b[0m \u001b[0mnumber\u001b[0m \u001b[0mof\u001b[0m \u001b[0melements\u001b[0m \u001b[1;32mas\u001b[0m \u001b[0mthe\u001b[0m \u001b[0moriginal\u001b[0m \u001b[0marray\u001b[0m\u001b[1;33m.\u001b[0m \u001b[0mFor\u001b[0m \u001b[0mexample\u001b[0m\u001b[1;33m,\u001b[0m\u001b[1;33m\u001b[0m\u001b[0m\n",
      "\u001b[1;31mNameError\u001b[0m: name 'rint' is not defined"
     ]
    }
   ],
   "source": [
    "rint(\"....................Exercise Level 1 (Q.1).............................\")\n",
    "\n",
    "print('''Map: \"Map\" takes an array as input, applies a function to each element \n",
    "       of the array, and returns a new array with the results. The new array \n",
    "       will have the same number of elements as the original array. For example, \n",
    "       you could use \"Map\" to square each element in an array of numbers.''')\n",
    "\n",
    "print('''Filter: \"Filter\" takes an array as input and returns a new array that \n",
    "      contains only the elements of the original array that meet certain criteria \n",
    "      specified in the function passed to \"Filter\". For example, you could use \n",
    "      \"Filter\" to extract all even numbers from an array of numbers.''')\n",
    "\n",
    "print('''Reduce: \"Reduce\" takes an array as input, applies a function to each \n",
    "      element of the array (in a cumulative manner), and returns a single value \n",
    "      as output. The function passed to \"Reduce\" takes two arguments: an accumulator\n",
    "      (which starts as the first element of the array) and the current element \n",
    "      being processed. The accumulator is updated for each iteration and its \n",
    "      final value is returned as the result. For example, you could use \"Reduce\" \n",
    "      to find the sum of all elements in an array of numbers.''')\n",
    "      "
   ]
  },
  {
   "cell_type": "code",
   "execution_count": 2,
   "metadata": {},
   "outputs": [
    {
     "name": "stdout",
     "output_type": "stream",
     "text": [
      ".....................................(Q.2).............................\n",
      "Higher-Order Functions: A higher-order function is a function that takes \n",
      "      one or more functions as arguments and/or returns a function as its result.\n",
      "      Higher-order functions are a fundamental concept in functional programming \n",
      "      and are used to abstract and reuse common operations on functions.\n",
      "'Closures: A closure is a function object that has access to variables in \n",
      "      its enclosing scope even after the outer function has returned. A closure \n",
      "      allows a function to \"remember\" its lexical scope even when it's invoked \n",
      "      outside that scope. In other words, a closure is a function that remembers \n",
      "      values in the scope in which it was created even if you access them in a \n",
      "      different scope.\n",
      "Decorators: A decorator is a special kind of function or construct in \n",
      "      Python (and other programming languages) that allows you to modify or extend \n",
      "      the behavior of another function or object without having to modify the \n",
      "      source code of the original function. A decorator takes a function as its\n",
      "      input, extends or modifies its behavior, and returns a new function that can\n",
      "      replace the original. Decorators are often used to add or remove \n",
      "      functionality to existing functions, such as adding logging, performance\n",
      "      measurement, or authentication.\n"
     ]
    }
   ],
   "source": [
    "print(\".....................................(Q.2).............................\")\n",
    "print('''Higher-Order Functions: A higher-order function is a function that takes \n",
    "      one or more functions as arguments and/or returns a function as its result.\n",
    "      Higher-order functions are a fundamental concept in functional programming \n",
    "      and are used to abstract and reuse common operations on functions.''')\n",
    "\n",
    "print(''''Closures: A closure is a function object that has access to variables in \n",
    "      its enclosing scope even after the outer function has returned. A closure \n",
    "      allows a function to \"remember\" its lexical scope even when it's invoked \n",
    "      outside that scope. In other words, a closure is a function that remembers \n",
    "      values in the scope in which it was created even if you access them in a \n",
    "      different scope.''')\n",
    "\n",
    "print('''Decorators: A decorator is a special kind of function or construct in \n",
    "      Python (and other programming languages) that allows you to modify or extend \n",
    "      the behavior of another function or object without having to modify the \n",
    "      source code of the original function. A decorator takes a function as its\n",
    "      input, extends or modifies its behavior, and returns a new function that can\n",
    "      replace the original. Decorators are often used to add or remove \n",
    "      functionality to existing functions, such as adding logging, performance\n",
    "      measurement, or authentication.''')\n",
    "\n"
   ]
  },
  {
   "cell_type": "code",
   "execution_count": 3,
   "metadata": {},
   "outputs": [
    {
     "name": "stdout",
     "output_type": "stream",
     "text": [
      ".....................................(Q.3).............................\n",
      "10\n",
      "[2, 4, 6, 8, 10]\n",
      "[2, 4]\n",
      "15\n"
     ]
    }
   ],
   "source": [
    "print(\".....................................(Q.3).............................\")\n",
    "#Here's an example of a simple callable in Python\n",
    "class Multiply:\n",
    "    def __init__(self, factor):\n",
    "        self.factor = factor\n",
    "        \n",
    "    def __call__(self, value):\n",
    "        return self.factor * value\n",
    "\n",
    "multiply_by_2 = Multiply(2)\n",
    "print(multiply_by_2(5)) # 10\n",
    "\n",
    "\n",
    "#Here's how you could use a callable with the map function:\n",
    "numbers = [1, 2, 3, 4, 5]\n",
    "squared_numbers = map(multiply_by_2, numbers)\n",
    "print(list(squared_numbers)) \n",
    "\n",
    "#Similarly, you could use a callable with the filter function:\n",
    "def is_even(value):\n",
    "    return value % 2 == 0\n",
    "even_numbers = filter(is_even, numbers)\n",
    "print(list(even_numbers)) \n",
    "\n",
    "#Finally, you could use a callable with the reduce function:\n",
    "from functools import reduce\n",
    "def add(accumulator, value):\n",
    "    return accumulator + value\n",
    "sum_of_numbers = reduce(add, numbers)\n",
    "print(sum_of_numbers) "
   ]
  },
  {
   "cell_type": "code",
   "execution_count": 4,
   "metadata": {},
   "outputs": [
    {
     "name": "stdout",
     "output_type": "stream",
     "text": [
      ".....................................(Q.4).............................\n",
      "Nigeria\n",
      "USA\n",
      "Canada\n",
      "Mexico\n",
      "Brazil\n",
      "Argentina\n"
     ]
    }
   ],
   "source": [
    "print(\".....................................(Q.4).............................\")\n",
    "countries = ['Nigeria', 'USA', 'Canada', 'Mexico', 'Brazil', 'Argentina']\n",
    "for country in countries:\n",
    "    print(country)\n"
   ]
  },
  {
   "cell_type": "code",
   "execution_count": 6,
   "metadata": {},
   "outputs": [
    {
     "name": "stdout",
     "output_type": "stream",
     "text": [
      ".....................................(Q.5).............................\n",
      "Abbakar\n",
      "Zainab\n",
      "Adnan\n",
      "Faiz\n",
      "Fatima\n"
     ]
    }
   ],
   "source": [
    "print(\".....................................(Q.5).............................\")\n",
    "names = ['Abbakar', 'Zainab', 'Adnan', 'Faiz', 'Fatima']\n",
    "for name in names:\n",
    "    print(name)\n",
    "\n"
   ]
  },
  {
   "cell_type": "code",
   "execution_count": 7,
   "metadata": {},
   "outputs": [
    {
     "name": "stdout",
     "output_type": "stream",
     "text": [
      ".....................................(Q.6).............................\n",
      "1\n",
      "2\n",
      "3\n",
      "4\n",
      "5\n"
     ]
    }
   ],
   "source": [
    "print(\".....................................(Q.6).............................\")\n",
    "numbers = [1, 2, 3, 4, 5]\n",
    "for number in numbers:\n",
    "    print(number)\n"
   ]
  },
  {
   "cell_type": "code",
   "execution_count": 8,
   "metadata": {},
   "outputs": [
    {
     "name": "stdout",
     "output_type": "stream",
     "text": [
      "....................Exercise Level 2 (Q.1).............................\n",
      "['NIGERIA', 'USA', 'CANADA', 'MEXICO', 'BRAZIL', 'ARGENTINA']\n"
     ]
    }
   ],
   "source": [
    "print(\"....................Exercise Level 2 (Q.1).............................\")\n",
    "countries = ['Nigeria', 'USA', 'Canada', 'Mexico', 'Brazil', 'Argentina']\n",
    "def to_uppercase(country):\n",
    "    return country.upper()\n",
    "uppercase_countries = list(map(to_uppercase, countries))\n",
    "print(uppercase_countries)\n"
   ]
  },
  {
   "cell_type": "code",
   "execution_count": 9,
   "metadata": {},
   "outputs": [
    {
     "name": "stdout",
     "output_type": "stream",
     "text": [
      ".....................................(Q.6).............................\n",
      "[1, 4, 9, 16, 25]\n"
     ]
    }
   ],
   "source": [
    "print(\".....................................(Q.6).............................\")\n",
    "num = [1, 2, 3, 4, 5]\n",
    "def square(number):\n",
    "    return number * number\n",
    "squared_num = list(map(square, num))\n",
    "print(squared_num)"
   ]
  },
  {
   "cell_type": "code",
   "execution_count": 10,
   "metadata": {},
   "outputs": [
    {
     "name": "stdout",
     "output_type": "stream",
     "text": [
      ".....................................(Q.6).............................\n",
      "['ABBAKAR', 'ZAINAB', 'ADNAN', 'FAIZ', 'FATIMA']\n"
     ]
    }
   ],
   "source": [
    "print(\".....................................(Q.6).............................\")\n",
    "#names = ['Zainab', 'Abbakar', 'Adnan', 'Faiz', 'Fatima']\n",
    "def to_uppercase(name):\n",
    "    return name.upper()\n",
    "uppercase_names = list(map(to_uppercase, names))\n",
    "print(uppercase_names)"
   ]
  },
  {
   "cell_type": "code",
   "execution_count": 11,
   "metadata": {},
   "outputs": [
    {
     "name": "stdout",
     "output_type": "stream",
     "text": [
      ".....................................(Q.6).............................\n",
      "['Iceland', 'Finland', 'Switzerland', 'Thailand', 'Ireland']\n"
     ]
    }
   ],
   "source": [
    "print(\".....................................(Q.6).............................\")\n",
    "countries = ['Iceland', 'Finland', 'Switzerland', 'Thailand', 'Ireland']\n",
    "def has_land(country):\n",
    "    return 'land' in country\n",
    "land_countries = list(filter(has_land, countries))\n",
    "print(land_countries)"
   ]
  },
  {
   "cell_type": "code",
   "execution_count": 12,
   "metadata": {},
   "outputs": [
    {
     "name": "stdout",
     "output_type": "stream",
     "text": [
      ".....................................(Q.6).............................\n",
      "['France', 'Greece']\n"
     ]
    }
   ],
   "source": [
    "print(\".....................................(Q.6).............................\")\n",
    "countries = ['France', 'Germany', 'Italy', 'Spain', 'Greece']\n",
    "def has_six_chars(country):\n",
    "    return len(country) == 6\n",
    "six_char_countries = list(filter(has_six_chars, countries))\n",
    "print(six_char_countries)\n"
   ]
  },
  {
   "cell_type": "code",
   "execution_count": 13,
   "metadata": {},
   "outputs": [
    {
     "name": "stdout",
     "output_type": "stream",
     "text": [
      ".....................................(Q.6).............................\n",
      "['France', 'Germany', 'Greece']\n"
     ]
    }
   ],
   "source": [
    "print(\".....................................(Q.6).............................\")\n",
    "countries = ['France', 'Germany', 'Italy', 'Spain', 'Greece']\n",
    "def has_six_or_more_chars(country):\n",
    "    return len(country) >= 6\n",
    "six_or_more_char_countries = list(filter(has_six_or_more_chars, countries))\n",
    "print(six_or_more_char_countries)\n"
   ]
  },
  {
   "cell_type": "code",
   "execution_count": 14,
   "metadata": {},
   "outputs": [
    {
     "name": "stdout",
     "output_type": "stream",
     "text": [
      ".....................................(Q.6).............................\n",
      "[]\n"
     ]
    }
   ],
   "source": [
    "print(\".....................................(Q.6).............................\")\n",
    "countries = ['France', 'Germany', 'Italy', 'Spain', 'Greece']\n",
    "def starts_with_e(country):\n",
    "    return country[0] == 'E'\n",
    "e_countries = list(filter(starts_with_e, countries))\n",
    "print(e_countries)\n"
   ]
  },
  {
   "cell_type": "code",
   "execution_count": 15,
   "metadata": {},
   "outputs": [
    {
     "name": "stdout",
     "output_type": "stream",
     "text": [
      ".....................................(Q.6).............................\n",
      "[4, 16, 36, 64, 100]\n"
     ]
    }
   ],
   "source": [
    "print(\".....................................(Q.6).............................\")\n",
    "numbers = [1, 2, 3, 4, 5, 6, 7, 8, 9, 10]\n",
    "squared_even_numbers = list(\n",
    "    map(lambda x: x**2, filter(lambda x: x % 2 == 0, numbers))\n",
    "    )\n",
    "print(squared_even_numbers)"
   ]
  },
  {
   "cell_type": "code",
   "execution_count": 16,
   "metadata": {},
   "outputs": [
    {
     "name": "stdout",
     "output_type": "stream",
     "text": [
      ".....................................(Q.6).............................\n",
      "['apple', 'banana', 'cherry']\n"
     ]
    }
   ],
   "source": [
    "print(\".....................................(Q.6).............................\")\n",
    "def get_string_lists(lst):\n",
    "    return list(filter(lambda x: type(x) == str, lst))\n",
    "mixed_list = ['apple', 123, 'banana', 456, 'cherry', 789]\n",
    "string_list = get_string_lists(mixed_list)\n",
    "print(string_list)\n"
   ]
  },
  {
   "cell_type": "code",
   "execution_count": 17,
   "metadata": {},
   "outputs": [
    {
     "name": "stdout",
     "output_type": "stream",
     "text": [
      ".....................................(Q.6).............................\n",
      "55\n"
     ]
    }
   ],
   "source": [
    "print(\".....................................(Q.6).............................\")\n",
    "numbers = [1, 2, 3, 4, 5, 6, 7, 8, 9, 10]\n",
    "sum_of_numbers = reduce(lambda x, y: x + y, numbers)\n",
    "print(sum_of_numbers)\n"
   ]
  },
  {
   "cell_type": "code",
   "execution_count": 18,
   "metadata": {},
   "outputs": [
    {
     "name": "stdout",
     "output_type": "stream",
     "text": [
      ".....................................(Q.6).............................\n",
      "Estonia, Finland, Sweden, Denmark, Norway, Iceland are north European countries\n"
     ]
    }
   ],
   "source": [
    "print(\".....................................(Q.6).............................\")\n",
    "countries = ['Estonia', 'Finland', 'Sweden', 'Denmark', 'Norway', 'Iceland']\n",
    "concatenated_countries = reduce(lambda x, y: x + ', ' + y, countries)\n",
    "sentence = concatenated_countries + \" are north European countries\"\n",
    "print(sentence)"
   ]
  },
  {
   "cell_type": "code",
   "execution_count": 19,
   "metadata": {},
   "outputs": [
    {
     "name": "stdout",
     "output_type": "stream",
     "text": [
      ".....................................(Q.6).............................\n",
      "['Afghanistan', 'Albania', 'Algeria', 'Andorra', 'Angola', 'Antigua and Barbuda', 'Argentina', 'Armenia', 'Australia', 'Austria', 'Azerbaijan']\n"
     ]
    }
   ],
   "source": [
    "print(\".....................................(Q.6).............................\")\n",
    "def categorize_countries(countries, starts_with):\n",
    "    return [country for country in countries if country.startswith(starts_with)]\n",
    "countries = [\n",
    "  'Afghanistan',\n",
    "  'Albania',\n",
    "  'Algeria',\n",
    "  'Andorra',\n",
    "  'Angola',\n",
    "  'Antigua and Barbuda',\n",
    "  'Argentina',\n",
    "  'Armenia',\n",
    "  'Australia',\n",
    "  'Austria',\n",
    "  'Azerbaijan',\n",
    "  'Bahamas',\n",
    "  'Bahrain',\n",
    "  'Bangladesh',\n",
    "  'Barbados',\n",
    "  'Belarus',\n",
    "  'Belgium',\n",
    "  'Belize',\n",
    "  'Benin',\n",
    "  'Bhutan',\n",
    "  'Bolivia',\n",
    "  'Bosnia and Herzegovina',\n",
    "  'Botswana',\n",
    "  'Brazil',\n",
    "  'Brunei',\n",
    "  'Bulgaria',\n",
    "  'Burkina Faso',\n",
    "  'Burundi',\n",
    "  'Cambodia',\n",
    "  'Cameroon',\n",
    "  'Canada',\n",
    "  'Cape Verde',\n",
    "  'Central African Republic',\n",
    "  'Chad',\n",
    "  'Chile',\n",
    "  'China',\n",
    "  'Colombi',\n",
    "  'Comoros',\n",
    "  'Congo (Brazzaville)',\n",
    "  'Congo',\n",
    "  'Costa Rica',\n",
    "  \"Cote d'Ivoire\",\n",
    "  'Croatia',\n",
    "  'Cuba',\n",
    "  'Cyprus',\n",
    "  'Czech Republic',\n",
    "  'Denmark',\n",
    "  'Djibouti',\n",
    "  'Dominica',\n",
    "  'Dominican Republic',\n",
    "  'East Timor (Timor Timur)',\n",
    "  'Ecuador',\n",
    "  'Egypt',\n",
    "  'El Salvador',\n",
    "  'Equatorial Guinea',\n",
    "  'Eritrea',\n",
    "  'Estonia',\n",
    "  'Ethiopia',\n",
    "  'Fiji',\n",
    "  'Finland',\n",
    "  'France',\n",
    "  'Gabon',\n",
    "  'Gambia, The',\n",
    "  'Georgia',\n",
    "  'Germany',\n",
    "  'Ghana',\n",
    "  'Greece',\n",
    "  'Grenada',\n",
    "  'Guatemala',\n",
    "  'Guinea',\n",
    "  'Guinea-Bissau',\n",
    "  'Guyana',\n",
    "  'Haiti',\n",
    "  'Honduras',\n",
    "  'Hungary',\n",
    "  'Iceland',\n",
    "  'India',\n",
    "  'Indonesia',\n",
    "  'Iran',\n",
    "  'Iraq',\n",
    "  'Ireland',\n",
    "  'Israel',\n",
    "  'Italy',\n",
    "  'Jamaica',\n",
    "  'Japan',\n",
    "  'Jordan',\n",
    "  'Kazakhstan',\n",
    "  'Kenya',\n",
    "  'Kiribati',\n",
    "  'Korea, North',\n",
    "  'Korea, South',\n",
    "  'Kuwait',\n",
    "  'Kyrgyzstan',\n",
    "  'Laos',\n",
    "  'Latvia',\n",
    "  'Lebanon',\n",
    "  'Lesotho',\n",
    "  'Liberia',\n",
    "  'Libya',\n",
    "  'Liechtenstein',\n",
    "  'Lithuania',\n",
    "  'Luxembourg',\n",
    "  'Macedonia',\n",
    "  'Madagascar',\n",
    "  'Malawi',\n",
    "  'Malaysia',\n",
    "  'Maldives',\n",
    "  'Mali',\n",
    "  'Malta',\n",
    "  'Marshall Islands',\n",
    "  'Mauritania',\n",
    "  'Mauritius',\n",
    "  'Mexico',\n",
    "  'Micronesia',\n",
    "  'Moldova',\n",
    "  'Monaco',\n",
    "  'Mongolia',\n",
    "  'Morocco',\n",
    "  'Mozambique',\n",
    "  'Myanmar',\n",
    "  'Namibia',\n",
    "  'Nauru',\n",
    "  'Nepal',\n",
    "  'Netherlands',\n",
    "  'New Zealand',\n",
    "  'Nicaragua',\n",
    "  'Niger',\n",
    "  'Nigeria',\n",
    "  'Norway',\n",
    "  'Oman',\n",
    "  'Pakistan',\n",
    "  'Palau',\n",
    "  'Panama',\n",
    "  'Papua New Guinea',\n",
    "  'Paraguay',\n",
    "  'Peru',\n",
    "  'Philippines',\n",
    "  'Poland',\n",
    "  'Portugal',\n",
    "  'Qatar',\n",
    "  'Romania',\n",
    "  'Russia',\n",
    "  'Rwanda',\n",
    "  'Saint Kitts and Nevis',\n",
    "  'Saint Lucia',\n",
    "  'Saint Vincent',\n",
    "  'Samoa',\n",
    "  'San Marino',\n",
    "  'Sao Tome and Principe',\n",
    "  'Saudi Arabia',\n",
    "  'Senegal',\n",
    "  'Serbia and Montenegro',\n",
    "  'Seychelles',\n",
    "  'Sierra Leone',\n",
    "  'Singapore',\n",
    "  'Slovakia',\n",
    "  'Slovenia',\n",
    "  'Solomon Islands',\n",
    "  'Somalia',\n",
    "  'South Africa',\n",
    "  'Spain',\n",
    "  'Sri Lanka',\n",
    "  'Sudan',\n",
    "  'Suriname',\n",
    "  'Swaziland',\n",
    "  'Sweden',\n",
    "  'Switzerland',\n",
    "  'Syria',\n",
    "  'Taiwan',\n",
    "  'Tajikistan',\n",
    "  'Tanzania',\n",
    "  'Thailand',\n",
    "  'Togo',\n",
    "  'Tonga',\n",
    "  'Trinidad and Tobago',\n",
    "  'Tunisia',\n",
    "  'Turkey',\n",
    "  'Turkmenistan',\n",
    "  'Tuvalu',\n",
    "  'Uganda',\n",
    "  'Ukraine',\n",
    "  'United Arab Emirates',\n",
    "  'United Kingdom',\n",
    "  'United States',\n",
    "  'Uruguay',\n",
    "  'Uzbekistan',\n",
    "  'Vanuatu',\n",
    "  'Vatican City',\n",
    "  'Venezuela',\n",
    "  'Vietnam',\n",
    "  'Yemen',\n",
    "  'Zambia',\n",
    "  'Zimbabwe',\n",
    "];\n",
    "countries_starting_with_A = categorize_countries(countries, \"A\")\n",
    "print(countries_starting_with_A)\n"
   ]
  },
  {
   "cell_type": "code",
   "execution_count": 20,
   "metadata": {},
   "outputs": [
    {
     "name": "stdout",
     "output_type": "stream",
     "text": [
      ".....................................(Q.6).............................\n",
      "{'A': 11, 'C': 18, 'B': 17, 'E': 8, 'D': 4, 'G': 11, 'F': 3, 'I': 8, 'H': 3, 'K': 7, 'J': 3, 'M': 18, 'L': 9, 'O': 1, 'N': 9, 'Q': 1, 'P': 9, 'S': 25, 'R': 3, 'U': 7, 'T': 11, 'V': 4, 'Y': 1, 'Z': 2}\n"
     ]
    }
   ],
   "source": [
    "print(\".....................................(Q.6).............................\")\n",
    "def country_letter_count(countries):\n",
    "    letter_count = {}\n",
    "    for country in countries:\n",
    "        first_letter = country[0].upper()\n",
    "        if first_letter in letter_count:\n",
    "            letter_count[first_letter] += 1\n",
    "        else:\n",
    "            letter_count[first_letter] = 1\n",
    "    return letter_count\n",
    "letter_count = country_letter_count(countries)\n",
    "print(letter_count)\n"
   ]
  },
  {
   "cell_type": "code",
   "execution_count": 21,
   "metadata": {},
   "outputs": [
    {
     "name": "stdout",
     "output_type": "stream",
     "text": [
      ".....................................(Q.6).............................\n"
     ]
    }
   ],
   "source": [
    "print(\".....................................(Q.6).............................\")\n",
    "def get_first_ten_countries(countries):\n",
    "    return countries[:10]\n"
   ]
  },
  {
   "cell_type": "code",
   "execution_count": null,
   "metadata": {},
   "outputs": [],
   "source": []
  }
 ],
 "metadata": {
  "kernelspec": {
   "display_name": "Python 2",
   "language": "python",
   "name": "python2"
  },
  "language_info": {
   "codemirror_mode": {
    "name": "ipython",
    "version": 2
   },
   "file_extension": ".py",
   "mimetype": "text/x-python",
   "name": "python",
   "nbconvert_exporter": "python",
   "pygments_lexer": "ipython2",
   "version": "2.7.16"
  }
 },
 "nbformat": 4,
 "nbformat_minor": 2
}
