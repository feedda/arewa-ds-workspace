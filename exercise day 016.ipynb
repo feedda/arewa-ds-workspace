{
 "cells": [
  {
   "cell_type": "markdown",
   "metadata": {},
   "source": [
    "## Exercise day 16"
   ]
  },
  {
   "cell_type": "code",
   "execution_count": 1,
   "metadata": {},
   "outputs": [
    {
     "name": "stdout",
     "output_type": "stream",
     "text": [
      "......................... Q. 1.......................................\n",
      "('Day:', 18)\n",
      "('Month:', 12)\n",
      "('Year:', 2023)\n",
      "('Hour:', 11)\n",
      "('Minute:', 0)\n",
      "('Timestamp:', '2023-12-18 11:00:14')\n"
     ]
    }
   ],
   "source": [
    "print(\"......................... Q. 1.......................................\")\n",
    "\n",
    "'''Get the current day, month, year, hour, minute and timestamp from datetime module'''\n",
    "\n",
    "from datetime import datetime\n",
    "\n",
    "# get current datetime object\n",
    "now = datetime.now()\n",
    "\n",
    "# extract day, month, year, hour, minute\n",
    "day = now.day\n",
    "month = now.month\n",
    "year = now.year\n",
    "hour = now.hour\n",
    "minute = now.minute\n",
    "\n",
    "# create timestamp using strftime method\n",
    "timestamp = now.strftime(\"%Y-%m-%d %H:%M:%S\")\n",
    "\n",
    "# print the values\n",
    "print(\"Day:\", day)\n",
    "print(\"Month:\", month)\n",
    "print(\"Year:\", year)\n",
    "print(\"Hour:\", hour)\n",
    "print(\"Minute:\", minute)\n",
    "print(\"Timestamp:\", timestamp)\n"
   ]
  },
  {
   "cell_type": "code",
   "execution_count": 2,
   "metadata": {},
   "outputs": [
    {
     "name": "stdout",
     "output_type": "stream",
     "text": [
      "......................... Q. 2.......................................\n",
      "('Formatted date:', '12/18/2023, 11:01:28')\n"
     ]
    }
   ],
   "source": [
    "print(\"......................... Q. 2.......................................\")\n",
    "\n",
    "'''Format the current date using this format: \"%m/%d/%Y, %H:%M:%S\")'''\n",
    "\n",
    "from datetime import datetime\n",
    "\n",
    "# get current datetime object\n",
    "now = datetime.now()\n",
    "\n",
    "# format the date using strftime method\n",
    "formatted_date = now.strftime(\"%m/%d/%Y, %H:%M:%S\")\n",
    "\n",
    "# print the formatted date\n",
    "print(\"Formatted date:\", formatted_date)\n"
   ]
  },
  {
   "cell_type": "code",
   "execution_count": 3,
   "metadata": {},
   "outputs": [
    {
     "name": "stdout",
     "output_type": "stream",
     "text": [
      "......................... Q. 3.......................................\n",
      "2019-12-05 00:00:00\n"
     ]
    }
   ],
   "source": [
    "print(\"......................... Q. 3.......................................\")\n",
    "\n",
    "'''Today is 5 December, 2019. Change this time string to time'''\n",
    "\n",
    "from datetime import datetime\n",
    "\n",
    "# time string to convert\n",
    "time_str = \"5 December, 2019\"\n",
    "\n",
    "# create datetime object from time string\n",
    "time = datetime.strptime(time_str, \"%d %B, %Y\")\n",
    "\n",
    "# print the datetime object\n",
    "print(time)"
   ]
  },
  {
   "cell_type": "code",
   "execution_count": 4,
   "metadata": {},
   "outputs": [
    {
     "name": "stdout",
     "output_type": "stream",
     "text": [
      "......................... Q. 4.......................................\n",
      "Time until New Year's Day: 13 days, 12 hours, 54 minutes\n"
     ]
    }
   ],
   "source": [
    "print(\"......................... Q. 4.......................................\")\n",
    "\n",
    "'''Calculate the time difference between now and new year.'''\n",
    "\n",
    "from datetime import datetime\n",
    "\n",
    "# get current time and New Year's Day time\n",
    "now = datetime.now()\n",
    "new_year = datetime(now.year + 1, 1, 1)\n",
    "\n",
    "# calculate time difference\n",
    "time_difference = new_year - now\n",
    "\n",
    "# print the time difference in days, hours, and minutes\n",
    "days = time_difference.days\n",
    "hours = time_difference.seconds // 3600\n",
    "minutes = (time_difference.seconds // 60) % 60\n",
    "print(\"Time until New Year's Day: {} days, {} hours, {} minutes\".format(days, hours, minutes))\n"
   ]
  },
  {
   "cell_type": "code",
   "execution_count": 5,
   "metadata": {},
   "outputs": [
    {
     "name": "stdout",
     "output_type": "stream",
     "text": [
      "......................... Q. 5.......................................\n",
      "Time since Unix epoch: 19709 days, 11 hours, 5 minutes, 53 seconds\n"
     ]
    }
   ],
   "source": [
    "print(\"......................... Q. 5.......................................\")\n",
    "\n",
    "'''Calculate the time difference between 1 January 1970 and now'''\n",
    "\n",
    "from datetime import datetime\n",
    "\n",
    "# get Unix epoch time and current time\n",
    "epoch = datetime.utcfromtimestamp(0)\n",
    "now = datetime.now()\n",
    "\n",
    "# calculate time difference\n",
    "time_difference = now - epoch\n",
    "\n",
    "# print the time difference in days, hours, minutes, and seconds\n",
    "days = time_difference.days\n",
    "hours = time_difference.seconds // 3600\n",
    "minutes = (time_difference.seconds // 60) % 60\n",
    "seconds = time_difference.seconds % 60\n",
    "print(\"Time since Unix epoch: {} days, {} hours, {} minutes, {} seconds\".format(days, hours, minutes, seconds))\n"
   ]
  },
  {
   "cell_type": "code",
   "execution_count": 6,
   "metadata": {},
   "outputs": [
    {
     "name": "stdout",
     "output_type": "stream",
     "text": [
      "......................... Q. 6.......................................\n"
     ]
    },
    {
     "data": {
      "text/plain": [
       "'The datetime module is a versatile and powerful module that can be used\\n      for a wide range of tasks related to dates and times. Here are some more\\n      examples of what you can use the datetime module for:\\n          \\nEvent scheduling: You can use the datetime module to schedule events, such as \\nreminders or notifications, to occur at specific times and dates.\\n\\nData logging: You can use the datetime module to log the date and time of events,\\nsuch as errors or user actions, in a log file.\\n\\nTime-based data filtering: If you have data that is time-stamped, such as stock\\nprices or weather data, you can use the datetime module to filter and analyze \\nthe data based on specific time periods.\\n\\nTime zone conversion: The datetime module includes functionality for converting\\nbetween different time zones, which can be useful if you need to work with data\\nfrom different parts of the world.\\n\\nWeb development: You can use the datetime module to manage timestamps for web\\napplications, such as adding time stamps to user comments or blog posts.\\n\\nData analysis: The datetime module can be used to analyze time-series data, such\\nas customer behavior or website traffic, to identify trends and patterns over time.\\n\\nOverall, the datetime module is a powerful tool for managing dates and times, \\nand it can be used in a wide variety of applications, including those related \\nto data analysis, event scheduling, and web development.'"
      ]
     },
     "execution_count": 6,
     "metadata": {},
     "output_type": "execute_result"
    }
   ],
   "source": [
    "print(\"......................... Q. 6.......................................\")\n",
    "\n",
    "'''Think, what can you use the datetime module for? Examples:\n",
    "Time series analysis\n",
    "To get a timestamp of any activities in an application\n",
    "Adding posts on a blog'''\n",
    "\n",
    "'''The datetime module is a versatile and powerful module that can be used\n",
    "      for a wide range of tasks related to dates and times. Here are some more\n",
    "      examples of what you can use the datetime module for:\n",
    "          \n",
    "Event scheduling: You can use the datetime module to schedule events, such as \n",
    "reminders or notifications, to occur at specific times and dates.\n",
    "\n",
    "Data logging: You can use the datetime module to log the date and time of events,\n",
    "such as errors or user actions, in a log file.\n",
    "\n",
    "Time-based data filtering: If you have data that is time-stamped, such as stock\n",
    "prices or weather data, you can use the datetime module to filter and analyze \n",
    "the data based on specific time periods.\n",
    "\n",
    "Time zone conversion: The datetime module includes functionality for converting\n",
    "between different time zones, which can be useful if you need to work with data\n",
    "from different parts of the world.\n",
    "\n",
    "Web development: You can use the datetime module to manage timestamps for web\n",
    "applications, such as adding time stamps to user comments or blog posts.\n",
    "\n",
    "Data analysis: The datetime module can be used to analyze time-series data, such\n",
    "as customer behavior or website traffic, to identify trends and patterns over time.\n",
    "\n",
    "Overall, the datetime module is a powerful tool for managing dates and times, \n",
    "and it can be used in a wide variety of applications, including those related \n",
    "to data analysis, event scheduling, and web development.'''\n",
    "\n",
    "\n"
   ]
  },
  {
   "cell_type": "code",
   "execution_count": null,
   "metadata": {},
   "outputs": [],
   "source": []
  }
 ],
 "metadata": {
  "kernelspec": {
   "display_name": "Python 2",
   "language": "python",
   "name": "python2"
  },
  "language_info": {
   "codemirror_mode": {
    "name": "ipython",
    "version": 2
   },
   "file_extension": ".py",
   "mimetype": "text/x-python",
   "name": "python",
   "nbconvert_exporter": "python",
   "pygments_lexer": "ipython2",
   "version": "2.7.16"
  }
 },
 "nbformat": 4,
 "nbformat_minor": 2
}
