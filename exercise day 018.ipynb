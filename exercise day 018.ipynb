{
 "cells": [
  {
   "cell_type": "markdown",
   "metadata": {},
   "source": [
    "## Exercise day 18"
   ]
  },
  {
   "cell_type": "code",
   "execution_count": 1,
   "metadata": {},
   "outputs": [
    {
     "name": "stdout",
     "output_type": "stream",
     "text": [
      "...................(Exercise Level 1 (Q.1))............................\n",
      "('The most frequesnt word is:', 'love')\n"
     ]
    }
   ],
   "source": [
    "print(\"...................(\"\"Exercise Level 1 (Q.1)\"\")............................\")\n",
    "'''What is the most frequent word in the following paragraph?   \n",
    "paragraph = 'I love teaching. If you do not love teaching what else can you love.\n",
    "I love Python if you do not love something which can give you all the capabilities\n",
    "to develop an application what else can you love.'''\n",
    "\n",
    "paragraph = 'I love teaching. If you do not love teaching what else can you love. I love Python if you do not love something which can give you all the capabilities to develop an application what else can you love.'\n",
    "\n",
    "# remove punctuation and convert to lowercase\n",
    "clean_paragraph = paragraph.lower().replace('.', '').replace(',', '')\n",
    "\n",
    "# split paragraph into individual words\n",
    "words = clean_paragraph.split()\n",
    "\n",
    "# count the occurrences of each word\n",
    "word_counts = {}\n",
    "for word in words:\n",
    "    if word in word_counts:\n",
    "        word_counts[word] += 1\n",
    "    else:\n",
    "        word_counts[word] = 1\n",
    "\n",
    "# find the word with the highest count\n",
    "most_frequent_word = max(word_counts, key=word_counts.get)\n",
    "\n",
    "print(\"The most frequesnt word is:\", most_frequent_word)\n"
   ]
  },
  {
   "cell_type": "code",
   "execution_count": 2,
   "metadata": {},
   "outputs": [
    {
     "name": "stdout",
     "output_type": "stream",
     "text": [
      "...................(Exercise Level 1 (Q.2))............................\n",
      "20\n"
     ]
    }
   ],
   "source": [
    "print(\"...................(\"\"Exercise Level 1 (Q.2)\"\")............................\")\n",
    "\n",
    "'''The position of some particles on the horizontal x-axis are -12, -4, -3 and -1 \n",
    "in the negative direction, 0 at origin, 4 and 8 in the positive direction. \n",
    "Extract these numbers from this whole text and find the distance between the \n",
    "two furthest particles. points = ['-1', '2', '-4', '-3', '-1', '0', '4', '8']\n",
    "sorted_points =  [-4, -3, -1, -1, 0, 2, 4, 8]\n",
    "distance = 8 -(-4) # 12.'''\n",
    "\n",
    "\n",
    "text = \"The position of some particles on the horizontal x-axis are -12, -4, -3 and -1 in the negative direction, 0 at origin, 4 and 8 in the positive direction.\"\n",
    "\n",
    "import re\n",
    "\n",
    "# extract the numbers from the text\n",
    "points = re.findall(r'-?\\d+', text)\n",
    "\n",
    "# convert the numbers to integers\n",
    "points = [int(p) for p in points]\n",
    "\n",
    "# sort the points in ascending order\n",
    "sorted_points = sorted(points)\n",
    "\n",
    "# calculate the distance between the furthest points\n",
    "distance = abs(sorted_points[-1] - sorted_points[0])\n",
    "\n",
    "print(distance)\n"
   ]
  },
  {
   "cell_type": "code",
   "execution_count": 3,
   "metadata": {},
   "outputs": [
    {
     "name": "stdout",
     "output_type": "stream",
     "text": [
      "...................(Exercise Level 2 (Q.1))............................\n",
      "True\n",
      "False\n",
      "False\n",
      "True\n"
     ]
    }
   ],
   "source": [
    "print(\"...................(\"\"Exercise Level 2 (Q.1)\"\")............................\")\n",
    "\n",
    "''' Write a pattern which identifies if a string is a valid python variable\n",
    "\n",
    "is_valid_variable('first_name') # True\n",
    "is_valid_variable('first-name') # False\n",
    "is_valid_variable('1first_name') # False\n",
    "is_valid_variable('firstname') # True '''\n",
    "\n",
    "def is_valid_variable(variable):\n",
    "    pattern = r'^[a-zA-Z_]\\w*$'\n",
    "    return re.match(pattern, variable) is not None\n",
    "\n",
    "print(is_valid_variable('first_name'))  # True\n",
    "print(is_valid_variable('first-name'))  # False\n",
    "print(is_valid_variable('1first_name')) # False\n",
    "print(is_valid_variable('firstname'))  # True\n",
    "\n"
   ]
  },
  {
   "cell_type": "code",
   "execution_count": 4,
   "metadata": {},
   "outputs": [
    {
     "name": "stdout",
     "output_type": "stream",
     "text": [
      "...................(Exercise Level 3 (Q.1))............................\n",
      "i am a teacher and i love teaching there is \n",
      "nothing as more rewarding as educating and empowering people \n",
      "i found teaching more interesting than any other jobs does this \n",
      "motivate you to be a teacher\n",
      "[('i', 3), ('and', 2), ('as', 2)]\n"
     ]
    }
   ],
   "source": [
    "print(\"...................(\"\"Exercise Level 3 (Q.1)\"\")............................\")\n",
    "\n",
    "''' Clean the following text. After cleaning, count three most frequent words in the string.\n",
    "sentence = %I $am@% a %tea@cher%, &and& I lo%#ve %tea@ching%;. There $is nothing;\n",
    "&as& mo@re rewarding as educa@ting &and& @emp%o@wering peo@ple. ;I found tea@ching \n",
    "m%o@re interesting tha@n any other %jo@bs. %Do@es thi%s mo@tivate yo@u to be a \n",
    "tea@cher!?\n",
    "\n",
    "print(clean_text(sentence));\n",
    "I am a teacher and I love teaching There is nothing as more rewarding as educating\n",
    "and empowering people I found teaching more interesting than any other jobs Does \n",
    "this motivate you to be a teacher print(most_frequent_words(cleaned_text)) \n",
    "# [(3, 'I'), (2, 'teaching'), (2, 'teacher')] '''\n",
    "\n",
    "from collections import Counter\n",
    "\n",
    "def clean_text(text):\n",
    "    pattern = r'[^a-zA-Z0-9\\s]'\n",
    "    text = re.sub(pattern, '', text)\n",
    "    text = text.lower()\n",
    "    return text\n",
    "\n",
    "def most_frequent_words(text):\n",
    "    words = text.split()\n",
    "    word_counts = Counter(words)\n",
    "    return word_counts.most_common(3)\n",
    "\n",
    "sentence = '''%I $am@% a %tea@cher%, &and& I lo%#ve %tea@ching%;. There $is \n",
    "nothing; &as& mo@re rewarding as educa@ting &and& @emp%o@wering peo@ple. ;\n",
    "I found tea@ching m%o@re interesting tha@n any other %jo@bs. %Do@es thi%s \n",
    "mo@tivate yo@u to be a tea@cher!?'''\n",
    "\n",
    "cleaned_text = clean_text(sentence)\n",
    "print(cleaned_text)\n",
    "# Output: i am a teacher and i love teaching there is nothing as more rewarding as educating and empowering people i found teaching more interesting than any other jobs does this motivate you to be a teacher\n",
    "\n",
    "print(most_frequent_words(cleaned_text))\n",
    "# Output: [(3, 'i'), (2, 'teaching'), (2, 'teacher')]\n"
   ]
  },
  {
   "cell_type": "code",
   "execution_count": null,
   "metadata": {},
   "outputs": [],
   "source": []
  }
 ],
 "metadata": {
  "kernelspec": {
   "display_name": "Python 2",
   "language": "python",
   "name": "python2"
  },
  "language_info": {
   "codemirror_mode": {
    "name": "ipython",
    "version": 2
   },
   "file_extension": ".py",
   "mimetype": "text/x-python",
   "name": "python",
   "nbconvert_exporter": "python",
   "pygments_lexer": "ipython2",
   "version": "2.7.16"
  }
 },
 "nbformat": 4,
 "nbformat_minor": 2
}
