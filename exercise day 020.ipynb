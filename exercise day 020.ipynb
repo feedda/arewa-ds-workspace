{
 "cells": [
  {
   "cell_type": "markdown",
   "metadata": {},
   "source": [
    "## Exercise day 20"
   ]
  },
  {
   "cell_type": "code",
   "execution_count": 2,
   "metadata": {},
   "outputs": [
    {
     "name": "stdout",
     "output_type": "stream",
     "text": [
      "...................(Exercise Level 1 (Q.1))............................\n",
      "[]\n"
     ]
    }
   ],
   "source": [
    "print(\"...................(\"\"Exercise Level 1 (Q.1)\"\")............................\")\n",
    "''' Read this url and find the 10 most frequent words. romeo_and_juliet = 'http://www.gutenberg.org/files/1112/1112.txt' '''\n",
    "import requests\n",
    "from collections import Counter\n",
    "import re\n",
    "\n",
    "# Fetch the text from the URL\n",
    "response = requests.get('http://www.gutenberg.org/files/1112/1112.txt')\n",
    "text = response.text\n",
    "\n",
    "# Remove the header and footer\n",
    "start_index = text.find('*** START OF THIS PROJECT GUTENBERG EBOOK ROMEO AND JULIET ***')\n",
    "end_index = text.find('*** END OF THIS PROJECT GUTENBERG EBOOK ROMEO AND JULIET ***')\n",
    "text = text[start_index:end_index]\n",
    "\n",
    "# Remove all punctuation and convert to lowercase\n",
    "text = re.sub(r'[^\\w\\s]', '', text).lower()\n",
    "\n",
    "# Count the frequency of each word and find the 10 most frequent\n",
    "word_counts = Counter(text.split())\n",
    "top_words = word_counts.most_common(10)\n",
    "\n",
    "print(top_words)\n"
   ]
  },
  {
   "cell_type": "code",
   "execution_count": 4,
   "metadata": {},
   "outputs": [
    {
     "ename": "SyntaxError",
     "evalue": "invalid syntax (<ipython-input-4-19d911e11b05>, line 60)",
     "output_type": "error",
     "traceback": [
      "\u001b[1;36m  File \u001b[1;32m\"<ipython-input-4-19d911e11b05>\"\u001b[1;36m, line \u001b[1;32m60\u001b[0m\n\u001b[1;33m    print(f\"Weight statistics (in metric units):\")\u001b[0m\n\u001b[1;37m                                                ^\u001b[0m\n\u001b[1;31mSyntaxError\u001b[0m\u001b[1;31m:\u001b[0m invalid syntax\n"
     ]
    }
   ],
   "source": [
    "print(\"...................(\"\"Exercise Level 1 (Q.2)\"\")............................\")\n",
    "'''Read the cats API and cats_api = 'https://api.thecatapi.com/v1/breeds' and find :\n",
    "the min, max, mean, median, standard deviation of cats' weight in metric units.\n",
    "the min, max, mean, median, standard deviation of cats' lifespan in years.\n",
    "Create a frequency table of country and breed of cats'''\n",
    "\n",
    "import requests\n",
    "import statistics\n",
    "\n",
    "# make a request to the cats API\n",
    "cats_api = 'https://api.thecatapi.com/v1/breeds'\n",
    "response = requests.get(cats_api)\n",
    "\n",
    "# load the response data into a Python object\n",
    "data = response.json()\n",
    "\n",
    "# extract the weight and lifespan data from the object\n",
    "weights = []\n",
    "lifespans = []\n",
    "for cat in data:\n",
    "    if cat['weight']['metric']:\n",
    "        weight_min, weight_max = cat['weight']['metric'].split(' - ')\n",
    "        weight_min = float(weight_min)\n",
    "        weight_max = float(weight_max)\n",
    "        weight_mean = (weight_min + weight_max) / 2\n",
    "        weights.append(weight_mean)\n",
    "    if cat['life_span']:\n",
    "        lifespan_min, lifespan_max = cat['life_span'].split(' - ')\n",
    "        lifespan_min = int(lifespan_min)\n",
    "        lifespan_max = int(lifespan_max)\n",
    "        lifespan_mean = (lifespan_min + lifespan_max) / 2\n",
    "        lifespans.append(lifespan_mean)\n",
    "\n",
    "# calculate the statistics for weight and lifespan\n",
    "weight_min = min(weights)\n",
    "weight_max = max(weights)\n",
    "weight_mean = statistics.mean(weights)\n",
    "weight_median = statistics.median(weights)\n",
    "weight_stddev = statistics.stdev(weights)\n",
    "\n",
    "lifespan_min = min(lifespans)\n",
    "lifespan_max = max(lifespans)\n",
    "lifespan_mean = statistics.mean(lifespans)\n",
    "lifespan_median = statistics.median(lifespans)\n",
    "lifespan_stddev = statistics.stdev(lifespans)\n",
    "\n",
    "# create a frequency table of country and breed of cats\n",
    "freq_table = {}\n",
    "for cat in data:\n",
    "    country = cat['origin']\n",
    "    breed = cat['name']\n",
    "    if country and breed:\n",
    "        key = (country, breed)\n",
    "        if key in freq_table:\n",
    "            freq_table[key] += 1\n",
    "        else:\n",
    "            freq_table[key] = 1\n",
    "\n",
    "# print the results\n",
    "print(f\"Weight statistics (in metric units):\")\n",
    "print(f\"Minimum weight: {weight_min:.2f}\")\n",
    "print(f\"Maximum weight: {weight_max:.2f}\")\n",
    "print(f\"Mean weight: {weight_mean:.2f}\")\n",
    "print(f\"Median weight: {weight_median:.2f}\")\n",
    "print(f\"Standard deviation of weight: {weight_stddev:.2f}\\n\")\n",
    "\n",
    "print(f\"Lifespan statistics (in years):\")\n",
    "print(f\"Minimum lifespan: {lifespan_min:.2f}\")\n",
    "print(f\"Maximum lifespan: {lifespan_max:.2f}\")\n",
    "print(f\"Mean lifespan: {lifespan_mean:.2f}\")\n",
    "print(f\"Median lifespan: {lifespan_median:.2f}\")\n",
    "print(f\"Standard deviation of lifespan: {lifespan_stddev:.2f}\\n\")\n",
    "\n",
    "print(\"Frequency table of country and breed of cats:\")\n",
    "for key, value in freq_table.items():\n",
    "    country, breed = key\n",
    "    print(f\"{country}: {breed} - {value} cats\")\n"
   ]
  },
  {
   "cell_type": "code",
   "execution_count": 5,
   "metadata": {},
   "outputs": [
    {
     "name": "stdout",
     "output_type": "stream",
     "text": [
      "...................(Exercise Level 1 (Q.3))............................\n"
     ]
    },
    {
     "data": {
      "text/plain": [
       "' Read the countries API and find\\nthe 10 largest countries\\nthe 10 most spoken languages\\nthe total number of languages in the countries API '"
      ]
     },
     "execution_count": 5,
     "metadata": {},
     "output_type": "execute_result"
    }
   ],
   "source": [
    "print(\"...................(\"\"Exercise Level 1 (Q.3)\"\")............................\")\n",
    "\n",
    "''' Read the countries API and find\n",
    "the 10 largest countries\n",
    "the 10 most spoken languages\n",
    "the total number of languages in the countries API '''\n"
   ]
  },
  {
   "cell_type": "code",
   "execution_count": null,
   "metadata": {},
   "outputs": [],
   "source": []
  }
 ],
 "metadata": {
  "kernelspec": {
   "display_name": "Python 2",
   "language": "python",
   "name": "python2"
  },
  "language_info": {
   "codemirror_mode": {
    "name": "ipython",
    "version": 2
   },
   "file_extension": ".py",
   "mimetype": "text/x-python",
   "name": "python",
   "nbconvert_exporter": "python",
   "pygments_lexer": "ipython2",
   "version": "2.7.16"
  }
 },
 "nbformat": 4,
 "nbformat_minor": 2
}
