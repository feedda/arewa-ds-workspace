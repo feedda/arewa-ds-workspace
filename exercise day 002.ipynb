{
 "cells": [
  {
   "cell_type": "markdown",
   "metadata": {},
   "source": [
    "# Exercise day 1"
   ]
  },
  {
   "cell_type": "code",
   "execution_count": 1,
   "metadata": {},
   "outputs": [],
   "source": [
    "first_name = 'Fatima'\n",
    "last_name = 'Usman'\n",
    "full_name = 'Fatima Usman'\n",
    "country = 'Nigeria'\n",
    "city = 'Hadejia'\n",
    "age = 26\n",
    "year = 1995\n",
    "is_married = True\n",
    "is_true = 'yes'\n",
    "is_light_on = 'yes'\n",
    "first_name, last_name, city = 'Fatima', 'Usman', 'Hadejia'\n"
   ]
  },
  {
   "cell_type": "code",
   "execution_count": 2,
   "metadata": {},
   "outputs": [
    {
     "name": "stdout",
     "output_type": "stream",
     "text": [
      ".............Checking Data Types of the declared Variables............\n",
      "('Fatima', <type 'str'>)\n",
      "('Usman', <type 'str'>)\n",
      "('Fatima Usman', <type 'str'>)\n",
      "('Nigeria', <type 'str'>)\n",
      "('Hadejia', <type 'str'>)\n",
      "(26, <type 'int'>)\n",
      "(1995, <type 'int'>)\n",
      "(True, <type 'bool'>)\n",
      "('yes', <type 'str'>)\n",
      "('yes', <type 'str'>)\n",
      "('Fatima', 'Usman', 'Hadejia', <type 'str'>)\n"
     ]
    }
   ],
   "source": [
    "print(\".............Checking Data Types of the declared Variables............\")\n",
    "print (first_name, type ('Fatima'))\n",
    "print (last_name, type ('Usman'))\n",
    "print (full_name, type ('Fatima Usman'))\n",
    "print (country, type ('Nigeria'))\n",
    "print (city, type ('Hadejia'))\n",
    "print (age, type (26))\n",
    "print (year, type (1995))\n",
    "print (is_married, type (True))\n",
    "print (is_true, type ('yes'))\n",
    "print (is_light_on, type ('yes'))\n",
    "print (first_name, last_name, city, type('Fatima'))\n"
   ]
  },
  {
   "cell_type": "code",
   "execution_count": 3,
   "metadata": {},
   "outputs": [
    {
     "name": "stdout",
     "output_type": "stream",
     "text": [
      ".............Checking Length of First Name..............................\n",
      "('First name length:', 6)\n",
      "('Last name length:', 5)\n"
     ]
    }
   ],
   "source": [
    "print(\".............Checking Length of First Name..............................\")\n",
    "print('First name length:', len(first_name))\n",
    "print('Last name length:', len(last_name))\n"
   ]
  },
  {
   "cell_type": "code",
   "execution_count": 4,
   "metadata": {},
   "outputs": [
    {
     "name": "stdout",
     "output_type": "stream",
     "text": [
      ".......Calculating Some Mathematical Operators Using 5 and 4 as the values....\n",
      "9\n",
      "-1\n",
      "20\n",
      "1\n",
      "4\n",
      "625\n",
      "1\n"
     ]
    }
   ],
   "source": [
    "print(\".......Calculating Some Mathematical Operators Using 5 and 4 as the values....\")\n",
    "num_one = 5 \n",
    "num_two = 4\n",
    "Total = num_one + num_two\n",
    "diff = num_two - num_one\n",
    "product = num_two * num_one\n",
    "division = num_one / num_two\n",
    "remainder = num_two % num_one\n",
    "exp = num_one ** num_two\n",
    "floor_division = num_one // num_two\n",
    "print (Total)\n",
    "print (diff)\n",
    "print (product)\n",
    "print (division)\n",
    "print (remainder)\n",
    "print (exp)\n",
    "print (floor_division)"
   ]
  },
  {
   "cell_type": "code",
   "execution_count": 5,
   "metadata": {},
   "outputs": [
    {
     "name": "stdout",
     "output_type": "stream",
     "text": [
      ".............Checking Length of First Name..............................\n"
     ]
    }
   ],
   "source": [
    "print(\".............Checking Length of First Name..............................\")\n",
    "import math"
   ]
  },
  {
   "cell_type": "code",
   "execution_count": null,
   "metadata": {},
   "outputs": [],
   "source": [
    "radius = float(input(\"Please enter the radius of the circle: \"))\n",
    "area_of_circle = math.pi * radius ** 2\n",
    "circum_of_circle = 2 * math.pi * radius\n",
    "print(\"The circumference of the circle is:\", circum_of_circle)\n",
    "print(\"The area of the circle is:\", area_of_circle)\n"
   ]
  },
  {
   "cell_type": "code",
   "execution_count": null,
   "metadata": {},
   "outputs": [],
   "source": [
    "print(\"............Using Input function to ask users their details..............\")\n",
    "first_name = input('Enter Your First Name: ')\n",
    "last_name = input('Enter Your Last Name: ')\n",
    "country = input('Enter Your Country: ')\n",
    "age = input('How old are you? ')\n"
   ]
  },
  {
   "cell_type": "code",
   "execution_count": null,
   "metadata": {},
   "outputs": [],
   "source": [
    "print(first_name)\n",
    "print(last_name)\n",
    "print(country)\n",
    "print(age)"
   ]
  },
  {
   "cell_type": "code",
   "execution_count": null,
   "metadata": {},
   "outputs": [],
   "source": [
    "help('for')"
   ]
  },
  {
   "cell_type": "code",
   "execution_count": null,
   "metadata": {},
   "outputs": [],
   "source": []
  }
 ],
 "metadata": {
  "kernelspec": {
   "display_name": "Python 2",
   "language": "python",
   "name": "python2"
  },
  "language_info": {
   "codemirror_mode": {
    "name": "ipython",
    "version": 2
   },
   "file_extension": ".py",
   "mimetype": "text/x-python",
   "name": "python",
   "nbconvert_exporter": "python",
   "pygments_lexer": "ipython2",
   "version": "2.7.16"
  }
 },
 "nbformat": 4,
 "nbformat_minor": 2
}
