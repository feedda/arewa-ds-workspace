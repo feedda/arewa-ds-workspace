{
 "cells": [
  {
   "cell_type": "markdown",
   "metadata": {},
   "source": [
    "# Exercise day 4"
   ]
  },
  {
   "cell_type": "code",
   "execution_count": 1,
   "metadata": {},
   "outputs": [
    {
     "name": "stdout",
     "output_type": "stream",
     "text": [
      ".....................Question 1..............................................\n",
      "Thirty Days Of Python\n"
     ]
    }
   ],
   "source": [
    "print(\".....................Question 1..............................................\")\n",
    "text = 'Thirty' + ' ' + 'Days' + ' ' + 'Of' + ' ' + 'Python'\n",
    "print(text)\n"
   ]
  },
  {
   "cell_type": "code",
   "execution_count": 2,
   "metadata": {},
   "outputs": [
    {
     "name": "stdout",
     "output_type": "stream",
     "text": [
      ".....................Question 2..............................................\n",
      "Coding For ALL\n"
     ]
    }
   ],
   "source": [
    "print(\".....................Question 2..............................................\")\n",
    "text = 'Coding' + ' ' + 'For' + ' ' + 'ALL' \n",
    "print(text)"
   ]
  },
  {
   "cell_type": "code",
   "execution_count": 3,
   "metadata": {},
   "outputs": [
    {
     "name": "stdout",
     "output_type": "stream",
     "text": [
      ".....................Question 3..............................................\n",
      "Coding For All\n"
     ]
    }
   ],
   "source": [
    "print(\".....................Question 3..............................................\")\n",
    "company = \"Coding For All\"\n",
    "print(company)"
   ]
  },
  {
   "cell_type": "code",
   "execution_count": 4,
   "metadata": {},
   "outputs": [
    {
     "name": "stdout",
     "output_type": "stream",
     "text": [
      ".....................Question 4..............................................\n",
      "14\n"
     ]
    }
   ],
   "source": [
    "print(\".....................Question 4..............................................\")\n",
    "company = \"Coding For All\"\n",
    "print(len(company))\n"
   ]
  },
  {
   "cell_type": "code",
   "execution_count": 5,
   "metadata": {},
   "outputs": [
    {
     "name": "stdout",
     "output_type": "stream",
     "text": [
      ".....................Question 5..............................................\n",
      "CODING FOR ALL\n"
     ]
    }
   ],
   "source": [
    "print(\".....................Question 5..............................................\")\n",
    "company = company.upper()\n",
    "print(company)\n"
   ]
  },
  {
   "cell_type": "code",
   "execution_count": 6,
   "metadata": {},
   "outputs": [
    {
     "name": "stdout",
     "output_type": "stream",
     "text": [
      ".....................Question 6..............................................\n",
      "coding for all\n"
     ]
    }
   ],
   "source": [
    "print(\".....................Question 6..............................................\")\n",
    "company = company.lower()\n",
    "print(company)"
   ]
  },
  {
   "cell_type": "code",
   "execution_count": 7,
   "metadata": {},
   "outputs": [
    {
     "ename": "SyntaxError",
     "evalue": "invalid syntax (<ipython-input-7-5dd0c0fc0ffb>, line 5)",
     "output_type": "error",
     "traceback": [
      "\u001b[1;36m  File \u001b[1;32m\"<ipython-input-7-5dd0c0fc0ffb>\"\u001b[1;36m, line \u001b[1;32m5\u001b[0m\n\u001b[1;33m    print(f\"capitalize(): {capitalized_company}\")\u001b[0m\n\u001b[1;37m                                               ^\u001b[0m\n\u001b[1;31mSyntaxError\u001b[0m\u001b[1;31m:\u001b[0m invalid syntax\n"
     ]
    }
   ],
   "source": [
    "print(\".....................Question 7..............................................\")\n",
    "company = \"Coding For All\"\n",
    "# capitalize the first character\n",
    "capitalized_company = company.capitalize()\n",
    "print(f\"capitalize(): {capitalized_company}\")\n",
    "# format each word in the string as title case\n",
    "title_company = company.title()\n",
    "print(f\"title(): {title_company}\")\n",
    "# swap the case of each character in the string\n",
    "swapped_company = company.swapcase()\n",
    "print(f\"swapcase(): {swapped_company}\")\n"
   ]
  },
  {
   "cell_type": "code",
   "execution_count": 8,
   "metadata": {},
   "outputs": [
    {
     "ename": "SyntaxError",
     "evalue": "invalid syntax (<ipython-input-8-3f9d015005b6>, line 5)",
     "output_type": "error",
     "traceback": [
      "\u001b[1;36m  File \u001b[1;32m\"<ipython-input-8-3f9d015005b6>\"\u001b[1;36m, line \u001b[1;32m5\u001b[0m\n\u001b[1;33m    print(f\"First word: {first_word}\")\u001b[0m\n\u001b[1;37m                                    ^\u001b[0m\n\u001b[1;31mSyntaxError\u001b[0m\u001b[1;31m:\u001b[0m invalid syntax\n"
     ]
    }
   ],
   "source": [
    "print(\".....................Question 8..............................................\")\n",
    "company = \"Coding For All\"\n",
    "# slice the string starting from the index of the first space\n",
    "first_word = company[:company.index(\" \")]\n",
    "print(f\"First word: {first_word}\")"
   ]
  },
  {
   "cell_type": "code",
   "execution_count": 9,
   "metadata": {},
   "outputs": [
    {
     "name": "stdout",
     "output_type": "stream",
     "text": [
      ".....................Question 9..............................................\n",
      "The word 'Coding' is found in the string.\n"
     ]
    }
   ],
   "source": [
    "print(\".....................Question 9..............................................\")\n",
    "company = \"Coding For All\"\n",
    "if company.find(\"Coding\") != -1:\n",
    "    print(\"The word 'Coding' is found in the string.\")\n",
    "else:\n",
    "    print(\"The word 'Coding' is not found in the string.\")\n"
   ]
  },
  {
   "cell_type": "code",
   "execution_count": 10,
   "metadata": {},
   "outputs": [
    {
     "name": "stdout",
     "output_type": "stream",
     "text": [
      ".....................Question 10..............................................\n",
      "Python For All\n"
     ]
    }
   ],
   "source": [
    "print(\".....................Question 10..............................................\")\n",
    "company = \"Coding For All\"\n",
    "company = company.replace(\"Coding\", \"Python\")\n",
    "print(company)"
   ]
  },
  {
   "cell_type": "code",
   "execution_count": 11,
   "metadata": {},
   "outputs": [
    {
     "name": "stdout",
     "output_type": "stream",
     "text": [
      ".....................Question 11..............................................\n",
      "Python for All\n"
     ]
    }
   ],
   "source": [
    "print(\".....................Question 11..............................................\")\n",
    "company = \"Python for Everyone\"\n",
    "company = company.replace(\"Everyone\", \"All\")\n",
    "print(company)\n"
   ]
  },
  {
   "cell_type": "code",
   "execution_count": 12,
   "metadata": {},
   "outputs": [
    {
     "name": "stdout",
     "output_type": "stream",
     "text": [
      ".....................Question 12..............................................\n",
      "['Coding', 'For', 'All']\n"
     ]
    }
   ],
   "source": [
    "print(\".....................Question 12..............................................\")\n",
    "company = \"Coding For All\"\n",
    "words = company.split(\" \")\n",
    "print(words)\n"
   ]
  },
  {
   "cell_type": "code",
   "execution_count": 13,
   "metadata": {},
   "outputs": [
    {
     "name": "stdout",
     "output_type": "stream",
     "text": [
      ".....................Question 13..............................................\n",
      "['Facebook', 'Google', 'Microsoft', 'Apple', 'IBM', 'Oracle', 'Amazon']\n"
     ]
    }
   ],
   "source": [
    "print(\".....................Question 13..............................................\")\n",
    "companies = \"Facebook, Google, Microsoft, Apple, IBM, Oracle, Amazon\"\n",
    "companies = companies.split(\", \")\n",
    "print(companies)"
   ]
  },
  {
   "cell_type": "code",
   "execution_count": 14,
   "metadata": {},
   "outputs": [
    {
     "name": "stdout",
     "output_type": "stream",
     "text": [
      ".....................Question 14..............................................\n",
      "C\n"
     ]
    }
   ],
   "source": [
    "print(\".....................Question 14..............................................\")\n",
    "company = \"Coding For All\"\n",
    "first_char = company[0]\n",
    "print(first_char)"
   ]
  },
  {
   "cell_type": "code",
   "execution_count": 15,
   "metadata": {},
   "outputs": [
    {
     "name": "stdout",
     "output_type": "stream",
     "text": [
      ".....................Question 15..............................................\n",
      "13\n"
     ]
    }
   ],
   "source": [
    "print(\".....................Question 15..............................................\")\n",
    "company = \"Coding For All\"\n",
    "last_index = len(company) - 1\n",
    "print(last_index)"
   ]
  },
  {
   "cell_type": "code",
   "execution_count": 16,
   "metadata": {},
   "outputs": [
    {
     "name": "stdout",
     "output_type": "stream",
     "text": [
      ".....................Question 16..............................................\n",
      " \n"
     ]
    }
   ],
   "source": [
    "print(\".....................Question 16..............................................\")\n",
    "company = \"Coding For All\"\n",
    "char_at_index_10 = company[10]\n",
    "print(char_at_index_10)\n"
   ]
  },
  {
   "cell_type": "code",
   "execution_count": 17,
   "metadata": {},
   "outputs": [
    {
     "name": "stdout",
     "output_type": "stream",
     "text": [
      ".....................Question 17..............................................\n",
      "PFE\n"
     ]
    }
   ],
   "source": [
    "print(\".....................Question 17..............................................\")\n",
    "name = \"Python For Everyone\"\n",
    "acronym = \"\"\n",
    "words = name.split()\n",
    "for word in words:\n",
    "    acronym += word[0].upper()\n",
    "print(acronym)"
   ]
  },
  {
   "cell_type": "code",
   "execution_count": 18,
   "metadata": {},
   "outputs": [
    {
     "name": "stdout",
     "output_type": "stream",
     "text": [
      ".....................Question 18..............................................\n",
      "CFA\n"
     ]
    }
   ],
   "source": [
    "print(\".....................Question 18..............................................\")\n",
    "name = \"Coding For All\"\n",
    "words = name.split()\n",
    "acronym = \"\"\n",
    "for word in words:\n",
    "    acronym += word[0].upper()\n",
    "print(acronym)"
   ]
  },
  {
   "cell_type": "code",
   "execution_count": 19,
   "metadata": {},
   "outputs": [
    {
     "name": "stdout",
     "output_type": "stream",
     "text": [
      ".....................Question 19..............................................\n",
      "0\n"
     ]
    }
   ],
   "source": [
    "print(\".....................Question 19..............................................\")\n",
    "string = \"Coding For All\"\n",
    "index = string.index(\"C\")\n",
    "print(index)\n"
   ]
  },
  {
   "cell_type": "code",
   "execution_count": 20,
   "metadata": {},
   "outputs": [
    {
     "name": "stdout",
     "output_type": "stream",
     "text": [
      ".....................Question 20..............................................\n",
      "7\n"
     ]
    }
   ],
   "source": [
    "print(\".....................Question 20..............................................\")\n",
    "string = \"Coding For All\"\n",
    "index = string.index(\"F\")\n",
    "print(index)\n"
   ]
  },
  {
   "cell_type": "code",
   "execution_count": 21,
   "metadata": {},
   "outputs": [
    {
     "name": "stdout",
     "output_type": "stream",
     "text": [
      ".....................Question 21..............................................\n",
      "19\n"
     ]
    }
   ],
   "source": [
    "print(\".....................Question 21..............................................\")\n",
    "string = \"Coding For All People\"\n",
    "last_occurrence = string.rfind('l')\n",
    "print(last_occurrence)\n"
   ]
  },
  {
   "cell_type": "code",
   "execution_count": 22,
   "metadata": {},
   "outputs": [
    {
     "name": "stdout",
     "output_type": "stream",
     "text": [
      ".....................Question 22..............................................\n",
      "31\n"
     ]
    }
   ],
   "source": [
    "print(\".....................Question 22..............................................\")\n",
    "sentence = 'You cannot end a sentence with because because because is a conjunction'\n",
    "position = sentence.find('because')\n",
    "print(position)"
   ]
  },
  {
   "cell_type": "code",
   "execution_count": 23,
   "metadata": {},
   "outputs": [
    {
     "name": "stdout",
     "output_type": "stream",
     "text": [
      ".....................Question 23..............................................\n",
      "(\"The last occurrence of the word 'because' is at index\", 47)\n"
     ]
    }
   ],
   "source": [
    "print(\".....................Question 23..............................................\")\n",
    "sentence = \"You cannot end a sentence with because because because is a conjunction\"\n",
    "last_index = sentence.rindex(\"because\")\n",
    "print(\"The last occurrence of the word 'because' is at index\", last_index)\n"
   ]
  },
  {
   "cell_type": "code",
   "execution_count": 24,
   "metadata": {},
   "outputs": [
    {
     "name": "stdout",
     "output_type": "stream",
     "text": [
      ".....................Question 24..............................................\n",
      "because because because\n"
     ]
    }
   ],
   "source": [
    "print(\".....................Question 24..............................................\")\n",
    "sentence = \"You cannot end a sentence with because because because is a conjunction\"\n",
    "start = sentence.find(\"because\")\n",
    "end = start + len(\"because because because\")\n",
    "phrase = sentence[start:end]\n",
    "\n",
    "print(phrase)"
   ]
  },
  {
   "cell_type": "code",
   "execution_count": 25,
   "metadata": {},
   "outputs": [
    {
     "name": "stdout",
     "output_type": "stream",
     "text": [
      ".....................Question 25..............................................\n",
      "True\n"
     ]
    }
   ],
   "source": [
    "print(\".....................Question 25..............................................\")\n",
    "string = 'Coding For All'\n",
    "result = string.startswith('Coding')\n",
    "print(result)"
   ]
  },
  {
   "cell_type": "code",
   "execution_count": 26,
   "metadata": {},
   "outputs": [
    {
     "name": "stdout",
     "output_type": "stream",
     "text": [
      ".....................Question 26..............................................\n",
      "False\n"
     ]
    }
   ],
   "source": [
    "print(\".....................Question 26..............................................\")\n",
    "string = 'Coding For All'\n",
    "result = string.endswith('Coding')\n",
    "print(result)\n"
   ]
  },
  {
   "cell_type": "code",
   "execution_count": 27,
   "metadata": {},
   "outputs": [
    {
     "name": "stdout",
     "output_type": "stream",
     "text": [
      ".....................Question 27..............................................\n",
      "Coding For All\n"
     ]
    }
   ],
   "source": [
    "print(\".....................Question 27..............................................\")\n",
    "string = '   Coding For All      '\n",
    "string = string.strip()\n",
    "print(string)"
   ]
  },
  {
   "cell_type": "code",
   "execution_count": 28,
   "metadata": {},
   "outputs": [
    {
     "name": "stdout",
     "output_type": "stream",
     "text": [
      ".....................Question 28..............................................\n",
      "Which one of the following variables return True when we use the method isidentifier():\n",
      "1. 30DaysOfPython\n",
      "2. thirty_days_of_python\n",
      "The variable \"thirty_days_of_python\" returns True when using the method isidentifier() because it is a valid Python identifier, consisting of lowercase letters and underscores, and starting with a lowercase letter.\n",
      "The variable \"30DaysOfPython\" returns False because it starts with a number and is not a valid Python identifier.\n"
     ]
    }
   ],
   "source": [
    "print(\".....................Question 28..............................................\")\n",
    "print ('''Which one of the following variables return True when we use the method isidentifier():\n",
    "1. 30DaysOfPython\n",
    "2. thirty_days_of_python''')\n",
    "\n",
    "print ('''The variable \"thirty_days_of_python\" returns True when using the method isidentifier() because it is a valid Python identifier, consisting of lowercase letters and underscores, and starting with a lowercase letter.''')\n",
    "\n",
    "print( '''The variable \"30DaysOfPython\" returns False because it starts with a number and is not a valid Python identifier.''')\n"
   ]
  },
  {
   "cell_type": "code",
   "execution_count": 29,
   "metadata": {},
   "outputs": [
    {
     "name": "stdout",
     "output_type": "stream",
     "text": [
      ".....................Question 29..............................................\n",
      "Django#Flask#Bottle#Pyramid#Falcon\n"
     ]
    }
   ],
   "source": [
    "print(\".....................Question 29..............................................\")\n",
    "libraries = ['Django', 'Flask', 'Bottle', 'Pyramid', 'Falcon']\n",
    "separator = \"#\"\n",
    "joined_libraries = separator.join(libraries)\n",
    "print(joined_libraries)"
   ]
  },
  {
   "cell_type": "code",
   "execution_count": 30,
   "metadata": {},
   "outputs": [
    {
     "name": "stdout",
     "output_type": "stream",
     "text": [
      ".....................Question 30..............................................\n",
      "I am enjoying this challenge.\n",
      "I just wonder what is next.\n"
     ]
    }
   ],
   "source": [
    "print(\".....................Question 30..............................................\")\n",
    "print(\"I am enjoying this challenge.\\nI just wonder what is next.\")"
   ]
  },
  {
   "cell_type": "code",
   "execution_count": 31,
   "metadata": {},
   "outputs": [
    {
     "name": "stdout",
     "output_type": "stream",
     "text": [
      ".....................Question 31..............................................\n",
      "Name\tAge\tCountry\tCity\n",
      "Asabeneh\t250\tFinland\tHelsinki\n"
     ]
    }
   ],
   "source": [
    "print(\".....................Question 31..............................................\")\n",
    "print('Name\\tAge\\tCountry\\tCity')\n",
    "print('Asabeneh\\t250\\tFinland\\tHelsinki')\n"
   ]
  },
  {
   "cell_type": "code",
   "execution_count": 32,
   "metadata": {},
   "outputs": [
    {
     "name": "stdout",
     "output_type": "stream",
     "text": [
      ".....................Question 32..............................................\n",
      "The area of a circle with radius 10 is 314 meters square\n"
     ]
    }
   ],
   "source": [
    "print(\".....................Question 32..............................................\")\n",
    "radius = 10\n",
    "area = 3.14 * radius ** 2\n",
    "print(\"The area of a circle with radius {} is {:.0f} meters square\".format(radius, area))\n"
   ]
  },
  {
   "cell_type": "code",
   "execution_count": 33,
   "metadata": {},
   "outputs": [
    {
     "name": "stdout",
     "output_type": "stream",
     "text": [
      ".....................Question 33..............................................\n",
      "8 + 6 = 14\n",
      "8 - 6 = 2\n",
      "8 * 6 = 48\n",
      "8 / 6 = 1.00\n",
      "8 % 6 = 2\n",
      "8 // 6 = 1\n",
      "8 ** 6 = 262144\n"
     ]
    }
   ],
   "source": [
    "print(\".....................Question 33..............................................\")\n",
    "print(\"8 + 6 = {}\".format(8 + 6))\n",
    "print(\"8 - 6 = {}\".format(8 - 6))\n",
    "print(\"8 * 6 = {}\".format(8 * 6))\n",
    "print(\"8 / 6 = {:.2f}\".format(8 / 6))\n",
    "print(\"8 % 6 = {}\".format(8 % 6))\n",
    "print(\"8 // 6 = {}\".format(8 // 6))\n",
    "print(\"8 ** 6 = {}\".format(8 ** 6))"
   ]
  },
  {
   "cell_type": "code",
   "execution_count": null,
   "metadata": {},
   "outputs": [],
   "source": []
  }
 ],
 "metadata": {
  "kernelspec": {
   "display_name": "Python 2",
   "language": "python",
   "name": "python2"
  },
  "language_info": {
   "codemirror_mode": {
    "name": "ipython",
    "version": 2
   },
   "file_extension": ".py",
   "mimetype": "text/x-python",
   "name": "python",
   "nbconvert_exporter": "python",
   "pygments_lexer": "ipython2",
   "version": "2.7.16"
  }
 },
 "nbformat": 4,
 "nbformat_minor": 2
}
