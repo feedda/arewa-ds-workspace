{
 "cells": [
  {
   "cell_type": "markdown",
   "metadata": {},
   "source": [
    "## Exercise day 9"
   ]
  },
  {
   "cell_type": "code",
   "execution_count": 3,
   "metadata": {},
   "outputs": [
    {
     "ename": "SyntaxError",
     "evalue": "invalid syntax (<ipython-input-3-0b2f4b6c2941>, line 9)",
     "output_type": "error",
     "traceback": [
      "\u001b[1;36m  File \u001b[1;32m\"<ipython-input-3-0b2f4b6c2941>\"\u001b[1;36m, line \u001b[1;32m9\u001b[0m\n\u001b[1;33m    print(f\"You need to wait for {wait_time} years to be able to drive.\")\u001b[0m\n\u001b[1;37m                                                                       ^\u001b[0m\n\u001b[1;31mSyntaxError\u001b[0m\u001b[1;31m:\u001b[0m invalid syntax\n"
     ]
    }
   ],
   "source": [
    "print(\"...........................Exercise Level 1 (Q. 1)............................\")\n",
    "\n",
    "age = int(input(\"Enter your age: \"))\n",
    "\n",
    "if age >= 18:\n",
    "    print(\"You are old enough to drive.\")\n",
    "else:\n",
    "    wait_time = 18 - age\n",
    "    print(f\"You need to wait for {wait_time} years to be able to drive.\")\n",
    "    "
   ]
  },
  {
   "cell_type": "code",
   "execution_count": 4,
   "metadata": {},
   "outputs": [
    {
     "ename": "SyntaxError",
     "evalue": "invalid syntax (<ipython-input-4-b89df308cd9d>, line 12)",
     "output_type": "error",
     "traceback": [
      "\u001b[1;36m  File \u001b[1;32m\"<ipython-input-4-b89df308cd9d>\"\u001b[1;36m, line \u001b[1;32m12\u001b[0m\n\u001b[1;33m    print(f\"I am {age_difference} years older than you.\")\u001b[0m\n\u001b[1;37m                                                       ^\u001b[0m\n\u001b[1;31mSyntaxError\u001b[0m\u001b[1;31m:\u001b[0m invalid syntax\n"
     ]
    }
   ],
   "source": [
    "print(\"............................................(Q. 2)............................\")\n",
    "my_age = 26\n",
    "your_age = int(input(\"Enter your age: \"))\n",
    "\n",
    "if my_age == your_age:\n",
    "    print(\"We are the same age.\")\n",
    "elif my_age > your_age:\n",
    "    age_difference = my_age - your_age\n",
    "    if age_difference == 1:\n",
    "        print(\"I am 1 year older than you.\")\n",
    "    else:\n",
    "        print(f\"I am {age_difference} years older than you.\")\n",
    "else:\n",
    "    age_difference = your_age - my_age\n",
    "    if age_difference == 1:\n",
    "        print(\"You are 1 year older than me.\")\n",
    "    else:\n",
    "        print(f\"You are {age_difference} years older than me.\")\n",
    "\n"
   ]
  },
  {
   "cell_type": "code",
   "execution_count": null,
   "metadata": {},
   "outputs": [
    {
     "name": "stdout",
     "output_type": "stream",
     "text": [
      "............................................(Q. 3)............................\n"
     ]
    }
   ],
   "source": [
    "print(\"............................................(Q. 3)............................\")\n",
    "a = int(input(\"Enter first number: \"))\n",
    "b = int(input(\"Enter second number: \"))\n",
    "\n",
    "if a > b:\n",
    "    print(\"a is greater than b.\")\n",
    "elif a < b:\n",
    "    print(\"a is smaller than b.\")\n",
    "else:\n",
    "    print(\"a is equal to b.\")\n",
    "\n"
   ]
  },
  {
   "cell_type": "code",
   "execution_count": null,
   "metadata": {},
   "outputs": [],
   "source": [
    "print(\"............................................(Q. 4)............................\")\n",
    "score = int(input(\"Enter your score: \"))\n",
    "if score >= 90:\n",
    "    print(\"Grade: A\")\n",
    "elif score >= 80:\n",
    "    print(\"Grade: B\")\n",
    "elif score >= 70:\n",
    "    print(\"Grade: C\")\n",
    "elif score >= 60:\n",
    "    print(\"Grade: D\")\n",
    "else:\n",
    "    print(\"Grade: F\")\n",
    "\n"
   ]
  },
  {
   "cell_type": "code",
   "execution_count": null,
   "metadata": {},
   "outputs": [],
   "source": [
    "print(\"............................................(Q. 5)............................\")\n",
    "month = input(\"Enter a month: \")\n",
    "\n",
    "if month in [\"September\", \"October\", \"November\"]:\n",
    "    print(\"The season is Autumn.\")\n",
    "elif month in [\"December\", \"January\", \"February\"]:\n",
    "    print(\"The season is Winter.\")\n",
    "elif month in [\"March\", \"April\", \"May\"]:\n",
    "    print(\"The season is Spring.\")\n",
    "elif month in [\"June\", \"July\", \"August\"]:\n",
    "    print(\"The season is Summer.\")\n",
    "else:\n",
    "    print(\"Invalid month.\")"
   ]
  },
  {
   "cell_type": "code",
   "execution_count": null,
   "metadata": {},
   "outputs": [],
   "source": [
    "print(\"............................................(Q. 6)............................\")\n",
    "fruits = ['banana', 'orange', 'mango', 'lemon']\n",
    "fruit = input(\"Enter a fruit: \")\n",
    "\n",
    "if fruit in fruits:\n",
    "    print(\"That fruit already exists in the list.\")\n",
    "else:\n",
    "    fruits.append(fruit)\n",
    "    print(\"The modified list is:\", fruits)\n",
    "    "
   ]
  },
  {
   "cell_type": "code",
   "execution_count": null,
   "metadata": {},
   "outputs": [],
   "source": [
    "print(\"............................................(Q. 6)............................\")\n",
    "fruits = ['banana', 'orange', 'mango', 'lemon']\n",
    "fruit = input(\"Enter a fruit: \")\n",
    "\n",
    "if fruit in fruits:\n",
    "    print(\"That fruit already exists in the list.\")\n",
    "else:\n",
    "    fruits.append(fruit)\n",
    "    print(\"The modified list is:\", fruits)\n",
    "    \n",
    "\n",
    "loper.\")\n",
    "    else:\n",
    "        print(\"Unknown title.\")\n",
    "\n",
    "# If the person is married and if he lives in Finland, print the information in the following format:\n",
    "if person['is_married'] and person['country'] == 'Finland':\n",
    "    print(person['first_name'], personprint(\"...........................Exercise Level 2 (Q. 1)............................\")\n",
    "person = {\n",
    "    'first_name': 'Asabeneh',\n",
    "    'last_name': 'Yetayeh',\n",
    "    'age': 250,\n",
    "    'country': 'Finland',\n",
    "    'is_married': True,\n",
    "    'skills': ['JavaScript', 'React', 'Node', 'MongoDB', 'Python'],\n",
    "    'address': {\n",
    "        'street': 'Space street',\n",
    "        'zipcode': '02210'\n",
    "    }\n",
    "}\n",
    "\n",
    "# Check if the person dictionary has skills key, if so print out the middle skill in the skills list.\n",
    "if 'skills' in person:\n",
    "    skills = person['skills']\n",
    "    middle_index = len(skills) // 2\n",
    "    print(\"The middle skill is:\", skills[middle_index])\n",
    "\n",
    "# Check if the person dictionary has skills key, if so check if the person has 'Python' skill and print out the result.\n",
    "if 'skills' in person:\n",
    "    if 'Python' in person['skills']:\n",
    "        print(\"The person has the 'Python' skill.\")\n",
    "    else:\n",
    "        print(\"The person does not have the 'Python' skill.\")\n",
    "\n",
    "# If a person skills has only JavaScript and React, print('He is a front end developer'), if the person skills has Node, Python, MongoDB, print('He is a backend developer'), if the person skills has React, Node and MongoDB, Print('He is a fullstack developer'), else print('unknown title')\n",
    "if 'skills' in person:\n",
    "    skills = person['skills']\n",
    "    if set(skills) == {'JavaScript', 'React'}:\n",
    "        print(\"He is a front end developer.\")\n",
    "    elif set(skills) >= {'Node', 'Python', 'MongoDB'}:\n",
    "        print(\"He is a backend developer.\")\n",
    "    elif set(skills) >= {'React', 'Node', 'MongoDB'}:\n",
    "        print(\"He is a fullstack deve['last_name'], \"is married and lives in\", person['country'])\n"
   ]
  },
  {
   "cell_type": "code",
   "execution_count": null,
   "metadata": {},
   "outputs": [],
   "source": []
  }
 ],
 "metadata": {
  "kernelspec": {
   "display_name": "Python 2",
   "language": "python",
   "name": "python2"
  },
  "language_info": {
   "codemirror_mode": {
    "name": "ipython",
    "version": 2
   },
   "file_extension": ".py",
   "mimetype": "text/x-python",
   "name": "python",
   "nbconvert_exporter": "python",
   "pygments_lexer": "ipython2",
   "version": "2.7.16"
  }
 },
 "nbformat": 4,
 "nbformat_minor": 2
}
