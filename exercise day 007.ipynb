{
 "cells": [
  {
   "cell_type": "markdown",
   "metadata": {},
   "source": [
    "## Eercise day 7"
   ]
  },
  {
   "cell_type": "code",
   "execution_count": 1,
   "metadata": {},
   "outputs": [
    {
     "name": "stdout",
     "output_type": "stream",
     "text": [
      "...........................Exercise Level 1 (Q. 1)............................\n",
      "('The length of the set is:', 7)\n"
     ]
    }
   ],
   "source": [
    "print(\"...........................Exercise Level 1 (Q. 1)............................\")\n",
    "it_companies = {\"Facebook\", \"Google\", \"Microsoft\", \"Apple\", \"IBM\", \"Oracle\", \"Amazon\"}\n",
    "length = len(it_companies)\n",
    "print(\"The length of the set is:\", length)\n"
   ]
  },
  {
   "cell_type": "code",
   "execution_count": 2,
   "metadata": {},
   "outputs": [
    {
     "name": "stdout",
     "output_type": "stream",
     "text": [
      "............................................(Q. 2)............................\n",
      "('The set after adding Twitter:', set(['Google', 'IBM', 'Twitter', 'Amazon', 'Facebook', 'Oracle', 'Microsoft', 'Apple']))\n"
     ]
    }
   ],
   "source": [
    "print(\"............................................(Q. 2)............................\")\n",
    "it_companies.add('Twitter')\n",
    "print(\"The set after adding Twitter:\", it_companies)\n"
   ]
  },
  {
   "cell_type": "code",
   "execution_count": 3,
   "metadata": {},
   "outputs": [
    {
     "name": "stdout",
     "output_type": "stream",
     "text": [
      "............................................(Q. 2)............................\n",
      "set(['Tik Tok', 'Google', 'IBM', 'Instagram', 'FlexiSAF', 'Twitter', 'Amazon', 'Facebook', 'Oracle', 'SanhaTech', 'Microsoft', 'Apple'])\n"
     ]
    }
   ],
   "source": [
    "print(\"............................................(Q. 2)............................\")\n",
    "it_companies.update(['FlexiSAF', 'Instagram', 'Tik Tok', 'SanhaTech', 'Microsoft'])\n",
    "print(it_companies)\n"
   ]
  },
  {
   "cell_type": "code",
   "execution_count": 4,
   "metadata": {},
   "outputs": [
    {
     "name": "stdout",
     "output_type": "stream",
     "text": [
      "............................................(Q. 3)............................\n"
     ]
    }
   ],
   "source": [
    "print(\"............................................(Q. 3)............................\")\n",
    "it_companies = {\"Facebook\", \"Google\", \"Microsoft\", \"Apple\", \"IBM\", \"Oracle\", \"Amazon\"}\n",
    "del it_companies"
   ]
  },
  {
   "cell_type": "code",
   "execution_count": 8,
   "metadata": {},
   "outputs": [
    {
     "name": "stdout",
     "output_type": "stream",
     "text": [
      "............................................(Q. 4)............................\n",
      "In Python, both remove and discard methods are used to remove elements from a set (a collection of unique elements).\n",
      "The difference between the two methods lies in how they behave when trying to remove an element that does not exist \n",
      "in the set.\n",
      "\n",
      "Therefore, it is recommended to use discard when you want to remove an element from a set\n",
      "and do not care about raising an error if the element does not exist. On the other hand,\n",
      "you should use remove if you want to ensure that the element you are trying to remove is in the set\n"
     ]
    }
   ],
   "source": [
    "print(\"............................................(Q. 4)............................\")\n",
    "print('''In Python, both remove and discard methods are used to remove elements from a set (a collection of unique elements).\n",
    "The difference between the two methods lies in how they behave when trying to remove an element that does not exist \n",
    "in the set.\n",
    "\n",
    "Therefore, it is recommended to use discard when you want to remove an element from a set\n",
    "and do not care about raising an error if the element does not exist. On the other hand,\n",
    "you should use remove if you want to ensure that the element you are trying to remove is in the set''')\n"
   ]
  },
  {
   "cell_type": "code",
   "execution_count": 9,
   "metadata": {},
   "outputs": [
    {
     "name": "stdout",
     "output_type": "stream",
     "text": [
      "...........................Exercise Level 2...................................\n"
     ]
    }
   ],
   "source": [
    "print(\"...........................Exercise Level 2...................................\")\n",
    "A = {19, 22, 24, 20, 25, 26}\n",
    "B = {19, 22, 20, 25, 26, 24, 28, 27}\n",
    "age = [22, 19, 24, 25, 26, 24, 25, 24]\n"
   ]
  },
  {
   "cell_type": "code",
   "execution_count": 10,
   "metadata": {},
   "outputs": [
    {
     "name": "stdout",
     "output_type": "stream",
     "text": [
      "............................................(Q. 1)............................\n",
      "set([19, 20, 22, 24, 25, 26, 27, 28])\n",
      "............................................(Q. 2)............................\n",
      "set([19, 20, 22, 24, 25, 26])\n",
      "............................................(Q. 3)............................\n",
      "False\n"
     ]
    }
   ],
   "source": [
    "print(\"............................................(Q. 1)............................\")\n",
    "C = A.union(B)\n",
    "print (C)\n",
    "\n",
    "print(\"............................................(Q. 2)............................\")\n",
    "D = A.intersection(B)\n",
    "print (D)\n",
    "\n",
    "print(\"............................................(Q. 3)............................\")\n",
    "E = A.isdisjoint(B)\n",
    "print (E)\n"
   ]
  },
  {
   "cell_type": "code",
   "execution_count": 11,
   "metadata": {},
   "outputs": [
    {
     "name": "stdout",
     "output_type": "stream",
     "text": [
      "............................................(Q. 4)............................\n",
      "('Union of sets A and B:', set([19, 20, 22, 24, 25, 26, 27, 28]))\n",
      "('Union of sets B and A:', set([19, 20, 22, 24, 25, 26, 27, 28]))\n"
     ]
    }
   ],
   "source": [
    "print(\"............................................(Q. 4)............................\")\n",
    "# Find the union of sets A and B\n",
    "F = A.union(B)\n",
    "# Find the union of sets B and A\n",
    "G = B.union(A)\n",
    "# Print the results\n",
    "print(\"Union of sets A and B:\", F)\n",
    "print(\"Union of sets B and A:\", G)\n"
   ]
  },
  {
   "cell_type": "code",
   "execution_count": 12,
   "metadata": {},
   "outputs": [
    {
     "name": "stdout",
     "output_type": "stream",
     "text": [
      "............................................(Q. 5)............................\n",
      "set([27, 28])\n"
     ]
    }
   ],
   "source": [
    "print(\"............................................(Q. 5)............................\")\n",
    "H = A.symmetric_difference(B)\n",
    "print(H)\n"
   ]
  },
  {
   "cell_type": "code",
   "execution_count": 13,
   "metadata": {},
   "outputs": [
    {
     "name": "stdout",
     "output_type": "stream",
     "text": [
      "............................................(Q. 6)............................\n"
     ]
    }
   ],
   "source": [
    "print(\"............................................(Q. 6)............................\")\n",
    "# Delete set A\n",
    "del A\n",
    "# Delete set B\n",
    "del B\n"
   ]
  },
  {
   "cell_type": "code",
   "execution_count": 14,
   "metadata": {},
   "outputs": [
    {
     "name": "stdout",
     "output_type": "stream",
     "text": [
      "......................................Exercises: Level 3......................\n",
      "............................................(Q. 6)............................\n",
      "('Length of the list:', 8)\n",
      "('Length of the set:', 5)\n"
     ]
    }
   ],
   "source": [
    "print(\"......................................Exercises: Level 3......................\")\n",
    "\n",
    "print(\"............................................(Q. 6)............................\")\n",
    "ages = [22, 19, 24, 25, 26, 24, 25, 24]\n",
    "# Convert the list of ages to a set\n",
    "unique_ages = set(ages)\n",
    "# Compare the length of the list and the set\n",
    "print(\"Length of the list:\", len(ages))\n",
    "print(\"Length of the set:\", len(unique_ages))\n"
   ]
  },
  {
   "cell_type": "code",
   "execution_count": 15,
   "metadata": {},
   "outputs": [
    {
     "name": "stdout",
     "output_type": "stream",
     "text": [
      "............................................(Q. 6)............................\n",
      "Strings: Strings are sequences of characters and are used to represent text data. They are defined using single quotes (') or double quotes (\"). Strings are immutable, which means that you cannot modify individual characters within a string after it has been created.\n",
      "\n",
      "Lists: Lists are ordered, mutable sequences of elements. You can add, remove, or modify elements within a list after it has been created. Lists are defined using square brackets ([]).\n",
      "\n",
      "Tuples: Tuples are also ordered sequences of elements, but unlike lists, they are immutable. Once a tuple is created, you cannot modify its elements. Tuples are defined using parentheses (()).\n",
      "\n",
      "Sets: Sets are unordered collections of unique elements. Sets are similar to lists and tuples, but unlike these data types, sets do not allow duplicates. Sets are defined using curly braces ({}).\n"
     ]
    }
   ],
   "source": [
    "print(\"............................................(Q. 6)............................\")\n",
    "print ('''Strings: Strings are sequences of characters and are used to represent text data. They are defined using single quotes (') or double quotes (\"). Strings are immutable, which means that you cannot modify individual characters within a string after it has been created.\n",
    "\n",
    "Lists: Lists are ordered, mutable sequences of elements. You can add, remove, or modify elements within a list after it has been created. Lists are defined using square brackets ([]).\n",
    "\n",
    "Tuples: Tuples are also ordered sequences of elements, but unlike lists, they are immutable. Once a tuple is created, you cannot modify its elements. Tuples are defined using parentheses (()).\n",
    "\n",
    "Sets: Sets are unordered collections of unique elements. Sets are similar to lists and tuples, but unlike these data types, sets do not allow duplicates. Sets are defined using curly braces ({}).''')\n"
   ]
  },
  {
   "cell_type": "code",
   "execution_count": 16,
   "metadata": {},
   "outputs": [
    {
     "name": "stdout",
     "output_type": "stream",
     "text": [
      "............................................(Q. 6)............................\n",
      "('Number of unique words:', 10)\n"
     ]
    }
   ],
   "source": [
    "print(\"............................................(Q. 6)............................\")\n",
    "sentence = \"I am a teacher and I love to inspire and teach people.\"\n",
    "# Split the sentence into words\n",
    "words = sentence.split(\" \")\n",
    "# Create a set of unique words\n",
    "unique_words = set(words)\n",
    "# Count the number of unique words\n",
    "count = len(unique_words)\n",
    "# Print the result\n",
    "print(\"Number of unique words:\", count)"
   ]
  },
  {
   "cell_type": "code",
   "execution_count": null,
   "metadata": {},
   "outputs": [],
   "source": []
  }
 ],
 "metadata": {
  "kernelspec": {
   "display_name": "Python 2",
   "language": "python",
   "name": "python2"
  },
  "language_info": {
   "codemirror_mode": {
    "name": "ipython",
    "version": 2
   },
   "file_extension": ".py",
   "mimetype": "text/x-python",
   "name": "python",
   "nbconvert_exporter": "python",
   "pygments_lexer": "ipython2",
   "version": "2.7.16"
  }
 },
 "nbformat": 4,
 "nbformat_minor": 2
}
