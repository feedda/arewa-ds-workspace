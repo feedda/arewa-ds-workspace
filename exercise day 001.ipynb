{
 "cells": [
  {
   "cell_type": "code",
   "execution_count": 12,
   "metadata": {},
   "outputs": [
    {
     "name": "stdout",
     "output_type": "stream",
     "text": [
      "...................(Exercise Level 1 and 2)............................\n",
      "2.7.16 |Anaconda, Inc.| (default, Mar 14 2019, 15:49:40) [MSC v.1500 32 bit (Intel)]\n"
     ]
    }
   ],
   "source": [
    "# Day 1 - 30DaysOfPython Exercises \n",
    "# Exercise Level 1\n",
    "\n",
    "print(\"...................(\"\"Exercise Level 1 and 2\"\")............................\")\n",
    "# Question 1 - Check the python version you are using\n",
    "import sys\n",
    "print (sys. version)\n"
   ]
  },
  {
   "cell_type": "code",
   "execution_count": 3,
   "metadata": {},
   "outputs": [
    {
     "name": "stdout",
     "output_type": "stream",
     "text": [
      "....................('Mathematical Operators in Python')...........\n",
      "7\n",
      "-1\n",
      "12\n",
      "1\n",
      "81\n",
      "3\n",
      "0\n"
     ]
    }
   ],
   "source": [
    "# Question 2 - Calculating mathematical operator uding 3 and 4 operands \n",
    "print(\"....................('Mathematical Operators in Python')...........\")\n",
    "print(3 + 4)             \n",
    "print(3 - 4)             \n",
    "print(3 * 4)            \n",
    "print(3 / 2)             \n",
    "print(3 ** 4)\n",
    "print(3 % 4)             \n",
    "print(3 // 4)            \n"
   ]
  },
  {
   "cell_type": "code",
   "execution_count": 4,
   "metadata": {},
   "outputs": [
    {
     "name": "stdout",
     "output_type": "stream",
     "text": [
      ".............('Write strings on the python interactive shell').....\n",
      "....................('Sring').....................................\n",
      "fatima\n",
      "usman\n",
      "Nigeria\n",
      "I am enjoying 30 days of python\n"
     ]
    }
   ],
   "source": [
    "# Question 3 - Write strings on the python interactive shell.\n",
    "#The strings are the following:\n",
    "print(\".............('Write strings on the python interactive shell').....\")\n",
    "print(\"....................('Sring').....................................\")\n",
    "print (\"fatima\")\n",
    "print (\"usman\")\n",
    "print (\"Nigeria\")\n",
    "print (\"I am enjoying 30 days of python\")\n",
    "\n"
   ]
  },
  {
   "cell_type": "code",
   "execution_count": 5,
   "metadata": {},
   "outputs": [
    {
     "name": "stdout",
     "output_type": "stream",
     "text": [
      "....................('Checking Data types').......................\n",
      "<type 'int'>\n",
      "<type 'float'>\n",
      "<type 'complex'>\n",
      "<type 'list'>\n",
      "<type 'str'>\n",
      "<type 'str'>\n",
      "<type 'str'>\n"
     ]
    }
   ],
   "source": [
    "# Question 4 - Checking data types\n",
    "print(\"....................('Checking Data types').......................\")\n",
    "print(type(10))          \n",
    "print(type(3.14))        \n",
    "print(type(4 + 4j))      \n",
    "print(type(['Asabeneh', 'Python', 'Finland']))  \n",
    "print(type('fatima')) \n",
    "print(type('usman')) \n",
    "print(type('Nigeria'))    "
   ]
  },
  {
   "cell_type": "code",
   "execution_count": 6,
   "metadata": {},
   "outputs": [
    {
     "name": "stdout",
     "output_type": "stream",
     "text": [
      "...................(Exercise Level 3)............................\n",
      "..........The following are examples of different data types..........///////\n",
      "....................('INTEGER DATA TYPE').....................................\n",
      "5\n",
      "....................('FLOAT DATA TYPE').....................................\n",
      "5.2\n",
      "....................('COMPLEX DATA TYPE').....................................\n",
      "(2+4j)\n",
      "....................('STRING DATA TYPE').....................................\n",
      "Arewa Data Science Fellewship\n",
      "Thirty Days Of Python Challenge\n"
     ]
    }
   ],
   "source": [
    "print(\"...................(\"\"Exercise Level 3\"\")............................\")\n",
    "\n",
    "# Exercise Level 3\n",
    "\n",
    "print(\"..........The following are examples of different data types..........///////\")\n",
    "# Ineteger Data type\n",
    "print(\"....................('INTEGER DATA TYPE').....................................\")\n",
    "a = 5\n",
    "print(a)\n",
    "\n",
    "print(\"....................('FLOAT DATA TYPE').....................................\")\n",
    "# Float Data type\n",
    "b = 5.2\n",
    "print(b)\n",
    "\n",
    "print(\"....................('COMPLEX DATA TYPE').....................................\")\n",
    "c = 2 + 4j\n",
    "print(c)\n",
    "\n",
    "print(\"....................('STRING DATA TYPE').....................................\")\n",
    "a = 'Arewa Data Science Fellewship'\n",
    "print(a)  \n",
    "\n",
    "b = 'Thirty Days Of Python Challenge'\n",
    "print(b)\n"
   ]
  },
  {
   "cell_type": "code",
   "execution_count": 7,
   "metadata": {},
   "outputs": [
    {
     "name": "stdout",
     "output_type": "stream",
     "text": [
      "....................('LIST DATA TYPE').....................................\n",
      "Hausa\n",
      "Yoruba\n",
      "Igbo\n"
     ]
    }
   ],
   "source": [
    "print(\"....................('LIST DATA TYPE').....................................\")\n",
    "# List Data type \n",
    "# access of items in the list as index 0 - 2 because the items are 3\n",
    "Nigerian_Major_languages = [\"Hausa\", \"Yoruba\", \"Igbo\"]\n",
    "print(Nigerian_Major_languages[0])  \n",
    "print(Nigerian_Major_languages[1]) \n",
    "print(Nigerian_Major_languages[2])  \n"
   ]
  },
  {
   "cell_type": "code",
   "execution_count": 8,
   "metadata": {},
   "outputs": [
    {
     "name": "stdout",
     "output_type": "stream",
     "text": [
      "....................('TUPLE DATA TYPE').....................................\n",
      "Fried Rice\n",
      "Chicken Biryani\n",
      "Nasi Gorneg Ayam Tumyit\n"
     ]
    }
   ],
   "source": [
    "print(\"....................('TUPLE DATA TYPE').....................................\") \n",
    "\n",
    "# Tuple Data type \n",
    "# I used index number just like in the list to access items in python \n",
    "dishes = ('Fried Rice', 'Chicken Biryani', 'Nasi Gorneg Ayam Tumyit')\n",
    "print(dishes[0])  \n",
    "print(dishes[1]) \n",
    "print(dishes[2])   "
   ]
  },
  {
   "cell_type": "code",
   "execution_count": 9,
   "metadata": {},
   "outputs": [
    {
     "name": "stdout",
     "output_type": "stream",
     "text": [
      "....................('SET DATA TYPE').....................................\n",
      "set([112, 114, 115, 116, 118])\n"
     ]
    }
   ],
   "source": [
    "print(\"....................('SET DATA TYPE').....................................\")\n",
    "# I created a set named student_id\n",
    "student_id = {112, 114, 116, 118, 115}\n",
    "# This display student_id elements\n",
    "print(student_id)"
   ]
  },
  {
   "cell_type": "code",
   "execution_count": 10,
   "metadata": {},
   "outputs": [
    {
     "name": "stdout",
     "output_type": "stream",
     "text": [
      "....................('DICTIONARY DATA TYPE')...............................\n",
      "Jigawa\n",
      "Borno\n",
      "Kaduna\n"
     ]
    }
   ],
   "source": [
    "print(\"....................('DICTIONARY DATA TYPE')...............................\")\n",
    "# I created a dictionary named Nigeria which contains the states under the 3 Northern region\n",
    "nigeria = {'North_west': 'Jigawa', 'North_east': 'Borno', 'North_central': 'Kaduna'}\n",
    "print(nigeria['North_west']) \n",
    "print(nigeria['North_east'])\n",
    "print(nigeria['North_central'])   \n"
   ]
  },
  {
   "cell_type": "code",
   "execution_count": 11,
   "metadata": {},
   "outputs": [
    {
     "name": "stdout",
     "output_type": "stream",
     "text": [
      ".........Finding Euclidian distance between (2, 3) and (10, 8).............\n",
      "('The Euclidean distance from x = (2, 3) to y = (10, 8): ', 9.433981132056603)\n"
     ]
    }
   ],
   "source": [
    "print(\".........Finding Euclidian distance between (2, 3) and (10, 8).............\")\n",
    "import math\n",
    "x = (2, 3)\n",
    "y = (10, 8)\n",
    "distance = math.sqrt(sum([(a - b) ** 2 for a, b in zip(x, y)]))\n",
    "print(\"The Euclidean distance from x = (2, 3) to y = (10, 8): \",distance)\n"
   ]
  },
  {
   "cell_type": "code",
   "execution_count": null,
   "metadata": {},
   "outputs": [],
   "source": []
  }
 ],
 "metadata": {
  "kernelspec": {
   "display_name": "Python 2",
   "language": "python",
   "name": "python2"
  },
  "language_info": {
   "codemirror_mode": {
    "name": "ipython",
    "version": 2
   },
   "file_extension": ".py",
   "mimetype": "text/x-python",
   "name": "python",
   "nbconvert_exporter": "python",
   "pygments_lexer": "ipython2",
   "version": "2.7.16"
  }
 },
 "nbformat": 4,
 "nbformat_minor": 2
}
