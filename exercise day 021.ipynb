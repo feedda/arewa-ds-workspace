{
 "cells": [
  {
   "cell_type": "code",
   "execution_count": 1,
   "metadata": {},
   "outputs": [
    {
     "name": "stdout",
     "output_type": "stream",
     "text": [
      "Account holder: John Doe\n",
      "Total income: 1500\n",
      "Total expenses: 500\n",
      "Account balance: 1000\n"
     ]
    }
   ],
   "source": [
    "# 30DaysOfPython Exercises \n",
    "\n",
    "class PersonAccount:\n",
    "    def __init__(self, firstname, lastname):\n",
    "        self.firstname = firstname\n",
    "        self.lastname = lastname\n",
    "        self.incomes = set()\n",
    "        self.expenses = set()\n",
    "\n",
    "    def total_income(self):\n",
    "        return sum(income[0] for income in self.incomes)\n",
    "\n",
    "    def total_expense(self):\n",
    "        return sum(expense[0] for expense in self.expenses)\n",
    "\n",
    "    def account_info(self):\n",
    "        print(f\"Account holder: {self.firstname} {self.lastname}\")\n",
    "        print(f\"Total income: {self.total_income()}\")\n",
    "        print(f\"Total expenses: {self.total_expense()}\")\n",
    "        print(f\"Account balance: {self.account_balance()}\")\n",
    "\n",
    "    def add_income(self, amount, description):\n",
    "        self.incomes.add((amount, description))\n",
    "\n",
    "    def add_expense(self, amount, description):\n",
    "        self.expenses.add((amount, description))\n",
    "\n",
    "    def account_balance(self):\n",
    "        return self.total_income() - self.total_expense()\n",
    "    \n",
    "account = PersonAccount(\"John\", \"Doe\")\n",
    "account.add_income(1000, \"Salary\")\n",
    "account.add_income(500, \"Bonus\")\n",
    "account.add_expense(300, \"Rent\")\n",
    "account.add_expense(200, \"Food\")\n",
    "account.account_info()\n"
   ]
  },
  {
   "cell_type": "code",
   "execution_count": null,
   "metadata": {},
   "outputs": [],
   "source": []
  }
 ],
 "metadata": {
  "kernelspec": {
   "display_name": "Python 3",
   "language": "python",
   "name": "python3"
  },
  "language_info": {
   "codemirror_mode": {
    "name": "ipython",
    "version": 3
   },
   "file_extension": ".py",
   "mimetype": "text/x-python",
   "name": "python",
   "nbconvert_exporter": "python",
   "pygments_lexer": "ipython3",
   "version": "3.7.6"
  }
 },
 "nbformat": 4,
 "nbformat_minor": 4
}
