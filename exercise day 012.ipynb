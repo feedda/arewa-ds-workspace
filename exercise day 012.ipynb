{
 "cells": [
  {
   "cell_type": "markdown",
   "metadata": {},
   "source": [
    "## Exercse day 12"
   ]
  },
  {
   "cell_type": "code",
   "execution_count": 1,
   "metadata": {},
   "outputs": [
    {
     "name": "stdout",
     "output_type": "stream",
     "text": [
      "...................Exercise Level 1 (Q.1).............................\n"
     ]
    },
    {
     "ename": "AttributeError",
     "evalue": "'module' object has no attribute 'choices'",
     "output_type": "error",
     "traceback": [
      "\u001b[1;31m---------------------------------------------------------------------------\u001b[0m",
      "\u001b[1;31mAttributeError\u001b[0m                            Traceback (most recent call last)",
      "\u001b[1;32m<ipython-input-1-c2f19435968a>\u001b[0m in \u001b[0;36m<module>\u001b[1;34m()\u001b[0m\n\u001b[0;32m      6\u001b[0m \u001b[1;32mdef\u001b[0m \u001b[0mrandom_user_id\u001b[0m\u001b[1;33m(\u001b[0m\u001b[1;33m)\u001b[0m\u001b[1;33m:\u001b[0m\u001b[1;33m\u001b[0m\u001b[0m\n\u001b[0;32m      7\u001b[0m     \u001b[1;32mreturn\u001b[0m \u001b[1;34m''\u001b[0m\u001b[1;33m.\u001b[0m\u001b[0mjoin\u001b[0m\u001b[1;33m(\u001b[0m\u001b[0mrandom\u001b[0m\u001b[1;33m.\u001b[0m\u001b[0mchoices\u001b[0m\u001b[1;33m(\u001b[0m\u001b[0mstring\u001b[0m\u001b[1;33m.\u001b[0m\u001b[0mascii_letters\u001b[0m \u001b[1;33m+\u001b[0m \u001b[0mstring\u001b[0m\u001b[1;33m.\u001b[0m\u001b[0mdigits\u001b[0m\u001b[1;33m,\u001b[0m \u001b[0mk\u001b[0m\u001b[1;33m=\u001b[0m\u001b[1;36m6\u001b[0m\u001b[1;33m)\u001b[0m\u001b[1;33m)\u001b[0m\u001b[1;33m\u001b[0m\u001b[0m\n\u001b[1;32m----> 8\u001b[1;33m \u001b[1;32mprint\u001b[0m\u001b[1;33m(\u001b[0m\u001b[0mrandom_user_id\u001b[0m\u001b[1;33m(\u001b[0m\u001b[1;33m)\u001b[0m\u001b[1;33m)\u001b[0m\u001b[1;33m\u001b[0m\u001b[0m\n\u001b[0m",
      "\u001b[1;32m<ipython-input-1-c2f19435968a>\u001b[0m in \u001b[0;36mrandom_user_id\u001b[1;34m()\u001b[0m\n\u001b[0;32m      5\u001b[0m \u001b[1;33m\u001b[0m\u001b[0m\n\u001b[0;32m      6\u001b[0m \u001b[1;32mdef\u001b[0m \u001b[0mrandom_user_id\u001b[0m\u001b[1;33m(\u001b[0m\u001b[1;33m)\u001b[0m\u001b[1;33m:\u001b[0m\u001b[1;33m\u001b[0m\u001b[0m\n\u001b[1;32m----> 7\u001b[1;33m     \u001b[1;32mreturn\u001b[0m \u001b[1;34m''\u001b[0m\u001b[1;33m.\u001b[0m\u001b[0mjoin\u001b[0m\u001b[1;33m(\u001b[0m\u001b[0mrandom\u001b[0m\u001b[1;33m.\u001b[0m\u001b[0mchoices\u001b[0m\u001b[1;33m(\u001b[0m\u001b[0mstring\u001b[0m\u001b[1;33m.\u001b[0m\u001b[0mascii_letters\u001b[0m \u001b[1;33m+\u001b[0m \u001b[0mstring\u001b[0m\u001b[1;33m.\u001b[0m\u001b[0mdigits\u001b[0m\u001b[1;33m,\u001b[0m \u001b[0mk\u001b[0m\u001b[1;33m=\u001b[0m\u001b[1;36m6\u001b[0m\u001b[1;33m)\u001b[0m\u001b[1;33m)\u001b[0m\u001b[1;33m\u001b[0m\u001b[0m\n\u001b[0m\u001b[0;32m      8\u001b[0m \u001b[1;32mprint\u001b[0m\u001b[1;33m(\u001b[0m\u001b[0mrandom_user_id\u001b[0m\u001b[1;33m(\u001b[0m\u001b[1;33m)\u001b[0m\u001b[1;33m)\u001b[0m\u001b[1;33m\u001b[0m\u001b[0m\n",
      "\u001b[1;31mAttributeError\u001b[0m: 'module' object has no attribute 'choices'"
     ]
    }
   ],
   "source": [
    "print(\"...................Exercise Level 1 (Q.1).............................\")\n",
    "\n",
    "import random\n",
    "import string\n",
    "\n",
    "def random_user_id():\n",
    "    return ''.join(random.choices(string.ascii_letters + string.digits, k=6))\n",
    "print(random_user_id())\n"
   ]
  },
  {
   "cell_type": "code",
   "execution_count": null,
   "metadata": {},
   "outputs": [
    {
     "name": "stdout",
     "output_type": "stream",
     "text": [
      ".................................(Q.2)................................\n"
     ]
    }
   ],
   "source": [
    "print(\".................................(Q.2)................................\")\n",
    "\n",
    "def user_id_gen_by_user():\n",
    "    length = int(input(\"Enter the number of characters for the ID: \"))\n",
    "    count = int(input(\"Enter the number of IDs to generate: \"))\n",
    "    chars = string.ascii_letters + string.digits\n",
    "    user_ids = []\n",
    "    for i in range(count):\n",
    "        user_ids.append(''.join(random.choices(chars, k=length)))\n",
    "    return user_ids\n",
    "\n",
    "print(user_id_gen_by_user())\n",
    "print(user_id_gen_by_user())"
   ]
  },
  {
   "cell_type": "code",
   "execution_count": null,
   "metadata": {},
   "outputs": [],
   "source": [
    "print(\".................................(Q.3)................................\")\n",
    "def rgb_color_gen():\n",
    "    red = random.randint(0, 255)\n",
    "    green = random.randint(0, 255)\n",
    "    blue = random.randint(0, 255)\n",
    "    return \"rgb({}, {}, {})\".format(red, green, blue)\n",
    "print(rgb_color_gen())"
   ]
  },
  {
   "cell_type": "code",
   "execution_count": null,
   "metadata": {},
   "outputs": [],
   "source": [
    "print(\".................................(Q.4)................................\")\n",
    "def list_of_hexa_colors(n):\n",
    "    hexa_colors = []\n",
    "    for i in range(n):\n",
    "        color = \"#\"\n",
    "        for j in range(6):\n",
    "            color += random.choice(string.hexdigits)\n",
    "        hexa_colors.append(color)\n",
    "    return hexa_colors\n",
    "print(list_of_hexa_colors(5))\n"
   ]
  },
  {
   "cell_type": "code",
   "execution_count": null,
   "metadata": {},
   "outputs": [],
   "source": [
    "print(\"...................Exercise Level 2 (Q.1).............................\")\n",
    "\n",
    "def list_of_rgb_colors(num):\n",
    "    rgb_colors = []\n",
    "    for i in range(num):\n",
    "        red = str(random.randint(0, 255))\n",
    "        green = str(random.randint(0, 255))\n",
    "        blue = str(random.randint(0, 255))\n",
    "        rgb_colors.append(\"rgb(\" + red + \",\" + green + \",\" + blue + \")\")\n",
    "    return rgb_colors\n",
    "print(list_of_rgb_colors(5))\n"
   ]
  },
  {
   "cell_type": "code",
   "execution_count": null,
   "metadata": {},
   "outputs": [],
   "source": [
    "print(\".................................(Q.2)................................\")\n",
    "def generate_colors(color_type, num_colors):\n",
    "    if color_type == 'hexa':\n",
    "        return [''.join([random.choice('0123456789abcdef') for j in range(6)]) for i in range(num_colors)]\n",
    "    elif color_type == 'rgb':\n",
    "        return ['rgb({}, {}, {})'.format(random.randint(0,255), random.randint(0,255), random.randint(0,255)) for i in range(num_colors)]\n",
    "    else:\n",
    "        return None\n",
    "print(generate_colors(5, 7))"
   ]
  },
  {
   "cell_type": "code",
   "execution_count": null,
   "metadata": {},
   "outputs": [],
   "source": [
    "print(\".................................(Q.3)................................\")\n",
    "def generate_colors(color_type, num):\n",
    "    colors = []\n",
    "    if color_type == 'hexa':\n",
    "        for i in range(num):\n",
    "            color = \"#\"\n",
    "            for j in range(6):\n",
    "                color += random.choice(\"0123456789abcdef\")\n",
    "            colors.append(color)\n",
    "    elif color_type == 'rgb':\n",
    "        for i in range(num):\n",
    "            color = \"rgb(\"\n",
    "            for j in range(3):\n",
    "                color += str(random.randint(0, 255))\n",
    "                if j < 2:\n",
    "                    color += \",\"\n",
    "            color += \")\"\n",
    "            colors.append(color)\n",
    "    return colors\n",
    "print(generate_colors('hexa', 3)) \n",
    "print(generate_colors('hexa', 1)) \n",
    "print(generate_colors('rgb', 3))  \n",
    "print(generate_colors('rgb', 1))  \n"
   ]
  },
  {
   "cell_type": "code",
   "execution_count": null,
   "metadata": {},
   "outputs": [],
   "source": [
    "print(\"...................Exercise Level 3 (Q.1).............................\")\n",
    "def shuffle_list(lst):\n",
    "    random.shuffle(lst)\n",
    "    return lst"
   ]
  },
  {
   "cell_type": "code",
   "execution_count": null,
   "metadata": {},
   "outputs": [],
   "source": [
    "print(\".................................(Q.2)................................\")\n",
    "\n",
    "def unique_random_numbers():\n",
    "    random_numbers = random.sample(range(10), 7)\n",
    "    return random_numbers\n",
    "\n",
    "print(unique_random_numbers())\n"
   ]
  },
  {
   "cell_type": "code",
   "execution_count": null,
   "metadata": {},
   "outputs": [],
   "source": []
  }
 ],
 "metadata": {
  "kernelspec": {
   "display_name": "Python 2",
   "language": "python",
   "name": "python2"
  },
  "language_info": {
   "codemirror_mode": {
    "name": "ipython",
    "version": 2
   },
   "file_extension": ".py",
   "mimetype": "text/x-python",
   "name": "python",
   "nbconvert_exporter": "python",
   "pygments_lexer": "ipython2",
   "version": "2.7.16"
  }
 },
 "nbformat": 4,
 "nbformat_minor": 2
}
