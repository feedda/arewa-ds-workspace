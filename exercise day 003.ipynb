{
 "cells": [
  {
   "cell_type": "markdown",
   "metadata": {},
   "source": [
    "# Exercise day 3"
   ]
  },
  {
   "cell_type": "code",
   "execution_count": 1,
   "metadata": {},
   "outputs": [
    {
     "name": "stdout",
     "output_type": "stream",
     "text": [
      "('My age is:', 26)\n",
      "('My height is:', 1.63)\n",
      "('The complex variable is:', (1+2j))\n"
     ]
    }
   ],
   "source": [
    "age = 26\n",
    "height = 1.63\n",
    "c = 1 +2j\n",
    "print(\"My age is:\", age)\n",
    "print(\"My height is:\", height)\n",
    "print(\"The complex variable is:\", c)\n"
   ]
  },
  {
   "cell_type": "code",
   "execution_count": null,
   "metadata": {},
   "outputs": [],
   "source": [
    "print(\"........................................................................\")\n",
    "\n",
    "base = float(input(\"Please enter the base of the triangle: \"))\n",
    "height = float(input(\"Please enter the height of the triangle: \"))\n",
    "area = 0.5 * base * height\n",
    "print(\"The area of the triangle is:\", area)"
   ]
  },
  {
   "cell_type": "code",
   "execution_count": null,
   "metadata": {},
   "outputs": [],
   "source": [
    "print(\"........................................................................\")\n",
    "\n",
    "a = float(input(\"Enter side a: \"))\n",
    "b = float(input(\"Enter side b: \"))\n",
    "c = float(input(\"Enter side c: \"))\n",
    "perimeter = a + b + c\n",
    "print(\"The perimeter of the triangle is:\", perimeter)"
   ]
  },
  {
   "cell_type": "code",
   "execution_count": null,
   "metadata": {},
   "outputs": [],
   "source": [
    "print(\"........................................................................\")\n",
    "length = float(input(\"Enter the length of the rectangle: \"))\n",
    "width = float(input(\"Enter the width of the rectangle: \"))\n",
    "area = length * width\n",
    "perimeter = 2 * (length + width)\n",
    "print(\"The area of the rectangle is:\", area)\n",
    "print(\"The perimeter of the rectangle is:\", perimeter)\n",
    "\n",
    "import math\n",
    "print(\"........................................................................\")\n",
    "radius = float(input(\"Enter the radius of the circle: \"))\n",
    "\n",
    "area = math.pi * radius * radius\n",
    "circumference = 2 * math.pi * radius\n"
   ]
  },
  {
   "cell_type": "code",
   "execution_count": null,
   "metadata": {},
   "outputs": [],
   "source": [
    "print(\"The area of the circle is:\", area)\n",
    "print(\"The circumference of the circle is:\", circumference)\n",
    "\n",
    "print(\"........................................................................\")\n",
    "slope = 2\n",
    "x_intercept = (1,0)\n",
    "y_intercept = (0,-2)\n",
    "print(\"The slope of the line is:\", slope)\n",
    "print(\"The x-intercept of the line is:\", x_intercept)\n",
    "print(\"The y-intercept of the line is:\", y_intercept)\n"
   ]
  },
  {
   "cell_type": "code",
   "execution_count": null,
   "metadata": {},
   "outputs": [],
   "source": [
    "print(\"........................................................................\")\n",
    "x1, y1 = 2, 2\n",
    "x2, y2 = 6, 10\n",
    "slope = (y2 - y1) / (x2 - x1)\n",
    "distance = math.sqrt((x2 - x1)**2 + (y2 - y1)**2)\n",
    "print(\"The slope of the line between the points is:\", slope)\n",
    "print(\"The Euclidean distance between the points is:\", distance)\n"
   ]
  },
  {
   "cell_type": "code",
   "execution_count": null,
   "metadata": {},
   "outputs": [],
   "source": [
    "print(\"........................................................................\")\n",
    "x1, y1 = 2, 2\n",
    "x2, y2 = 6, 10\n",
    "slope = (y2 - y1) / (x2 - x1)\n",
    "distance = math.sqrt((x2 - x1)**2 + (y2 - y1)**2)\n",
    "print(\"The slope of the line between the points is:\", slope)\n",
    "print(\"The Euclidean distance between the points is:\", distance)\n"
   ]
  },
  {
   "cell_type": "code",
   "execution_count": null,
   "metadata": {},
   "outputs": [],
   "source": [
    "print(\"........................................................................\")\n",
    "print(\"The comparison between task 8 and 9 is :\", 2 == 2)\n",
    "\n",
    "print(\"........................................................................\")\n",
    "a = 1\n",
    "b = 6\n",
    "c = 9\n",
    "x = (-b + math.sqrt(b**2 - 4*a*c))/(2*a) \n",
    "y = x**2 + 6*x + 9\n",
    "print(\"The value of y when x =\", x,\"is:\", y)\n"
   ]
  },
  {
   "cell_type": "code",
   "execution_count": null,
   "metadata": {},
   "outputs": [],
   "source": [
    "print(\"........................................................................\")\n",
    "string1 = 'python'\n",
    "string2 = 'dragon'\n",
    "length_string1 = len(string1)\n",
    "length_string2 = len(string2)\n",
    "print(\"The length of\",string1,\"is\",length_string1)\n",
    "print(\"The length of\",string2,\"is\",length_string2)\n",
    "if not length_string1 == length_string2:\n",
    "    print(\"Length of\",string1,\"is not equal to the length of\",string2)\n",
    "else:\n",
    "    print(\"Length of\",string1,\"is equal to the length of\",string2)"
   ]
  },
  {
   "cell_type": "code",
   "execution_count": null,
   "metadata": {},
   "outputs": [],
   "source": [
    "print(\"........................................................................\")\n",
    "string1 = 'python'\n",
    "string2 = 'dragon'\n",
    "substring = 'on'\n",
    "if (string1.find(substring) >= 0) and (string2.find(substring) >= 0):\n",
    "    print(\"'on' is found in both\",string1,\"and\",string2)\n",
    "else:\n",
    "    print(\"'on' is not found in both\",string1,\"and\",string2)"
   ]
  },
  {
   "cell_type": "code",
   "execution_count": null,
   "metadata": {},
   "outputs": [],
   "source": [
    "print(\"........................................................................\")\n",
    "sentence = \"I hope this course is not full of jargon.\"\n",
    "word = \"jargon\"\n",
    "if sentence.find(word) >= 0:\n",
    "    print(\"The word\",word,\"is present in the sentence\")\n",
    "else:\n",
    "    print(\"The word\",word,\"is not present in the sentence\")\n"
   ]
  },
  {
   "cell_type": "code",
   "execution_count": null,
   "metadata": {},
   "outputs": [],
   "source": [
    "print(\"........................................................................\")\n",
    "text = \"python\"\n",
    "length = str(float(len(text)))\n",
    "print(\"The length of the text 'python' is:\",length)\n"
   ]
  },
  {
   "cell_type": "code",
   "execution_count": null,
   "metadata": {},
   "outputs": [],
   "source": [
    "print(\"........................................................................\")\n",
    "num = 8.0\n",
    "if num.is_integer() and num % 2 == 0:\n",
    "    print(num, \"is even\")\n",
    "else:\n",
    "    print(num, \"is odd\")"
   ]
  },
  {
   "cell_type": "code",
   "execution_count": null,
   "metadata": {},
   "outputs": [],
   "source": [
    "print(\"........................................................................\")\n",
    "import math\n",
    "if 7 // 3 == math.floor(2.7):\n",
    "    print(\"The floor division of 7 by 3 is equal to the floor value of 2.7\")\n",
    "else:\n",
    "    print(\"The floor division of 7 by 3 is not equal to the floor value of 2.7\")\n"
   ]
  },
  {
   "cell_type": "code",
   "execution_count": null,
   "metadata": {},
   "outputs": [],
   "source": [
    "f 10\")print(\"........................................................................\")\n",
    "if type('10') == type(10):\n",
    "    print(\"The type of '10' is equal to the type of 10\")\n",
    "else:\n",
    "    print(\"The type of '10' is not equal to the type o"
   ]
  },
  {
   "cell_type": "code",
   "execution_count": null,
   "metadata": {},
   "outputs": [],
   "source": [
    "print(\"........................................................................\")\n",
    "if int(math.floor(9.8)) == 10:\n",
    "    print(\"int(math.floor(9.8)) is equal to 10\")\n",
    "else:\n",
    "    print(\"int(math.floor(9.8)) is not equal to 10\")\n"
   ]
  },
  {
   "cell_type": "code",
   "execution_count": null,
   "metadata": {},
   "outputs": [],
   "source": [
    "print(\"........................................................................\")\n",
    "hours = input(\"Enter the number of hours worked: \")\n",
    "rate = input(\"Enter the rate per hour: \")\n",
    "# convert the input to float\n",
    "hours = float(hours)\n",
    "rate = float(rate)\n",
    "# calculate pay\n",
    "pay = hours * rate\n",
    "print(\"Pay: $\" + str(pay))"
   ]
  },
  {
   "cell_type": "code",
   "execution_count": null,
   "metadata": {},
   "outputs": [],
   "source": [
    "print(\"........................................................................\")\n",
    "years = input(\"Enter the number of years a person can live: \")\n",
    "# convert the input to float\n",
    "years = float(years)\n",
    "# calculate seconds\n",
    "seconds = years * 365 * 24 * 60 * 60\n",
    "print(\"Number of seconds a person can live: \" + str(seconds))"
   ]
  },
  {
   "cell_type": "code",
   "execution_count": null,
   "metadata": {},
   "outputs": [],
   "source": [
    "print(\"........................................................................\")\n",
    "first_no = 1\n",
    "second_no = 2\n",
    "third_no = 3\n",
    "forth_no = 4\n",
    "fifth_no = 5\n",
    "print(first_no, first_no **0, first_no **1, first_no **2, first_no **3)\n",
    "print(second_no, second_no **0, second_no **2, second_no **3, second_no **3)\n",
    "print(third_no, third_no **0, third_no **1, third_no **2, third_no **3)\n",
    "print(forth_no, forth_no **0, forth_no **1, forth_no **2, forth_no **3)\n",
    "print(fifth_no, fifth_no **0, fifth_no **1, fifth_no **2, fifth_no **3)\n"
   ]
  },
  {
   "cell_type": "code",
   "execution_count": null,
   "metadata": {},
   "outputs": [],
   "source": []
  }
 ],
 "metadata": {
  "kernelspec": {
   "display_name": "Python 2",
   "language": "python",
   "name": "python2"
  },
  "language_info": {
   "codemirror_mode": {
    "name": "ipython",
    "version": 2
   },
   "file_extension": ".py",
   "mimetype": "text/x-python",
   "name": "python",
   "nbconvert_exporter": "python",
   "pygments_lexer": "ipython2",
   "version": "2.7.16"
  }
 },
 "nbformat": 4,
 "nbformat_minor": 2
}
