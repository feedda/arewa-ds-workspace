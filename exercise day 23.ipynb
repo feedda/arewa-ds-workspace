{
 "cells": [
  {
   "cell_type": "code",
   "execution_count": 1,
   "metadata": {},
   "outputs": [
    {
     "ename": "SyntaxError",
     "evalue": "invalid syntax (<ipython-input-1-c0200c78b301>, line 2)",
     "output_type": "error",
     "traceback": [
      "\u001b[1;36m  File \u001b[1;32m\"<ipython-input-1-c0200c78b301>\"\u001b[1;36m, line \u001b[1;32m2\u001b[0m\n\u001b[1;33m    mkdir flask_project\u001b[0m\n\u001b[1;37m                      ^\u001b[0m\n\u001b[1;31mSyntaxError\u001b[0m\u001b[1;31m:\u001b[0m invalid syntax\n"
     ]
    }
   ],
   "source": [
    "# Create project folder\n",
    "mkdir flask_project\n",
    "\n",
    "# Navigate to the project folder, create a virtual environment, and activate it\n",
    "cd flask_project && python -m venv venv && .\\venv\\Scripts\\activate\n",
    "\n",
    "# Install Flask\n",
    "pip install Flask\n",
    "\n",
    "# Check installed packages\n",
    "pip freeze\n",
    "\n",
    "# Deactivate virtual environment\n",
    "deactivate\n"
   ]
  },
  {
   "cell_type": "code",
   "execution_count": null,
   "metadata": {},
   "outputs": [],
   "source": []
  }
 ],
 "metadata": {
  "kernelspec": {
   "display_name": "Python 3",
   "language": "python",
   "name": "python3"
  },
  "language_info": {
   "codemirror_mode": {
    "name": "ipython",
    "version": 3
   },
   "file_extension": ".py",
   "mimetype": "text/x-python",
   "name": "python",
   "nbconvert_exporter": "python",
   "pygments_lexer": "ipython3",
   "version": "3.7.6"
  }
 },
 "nbformat": 4,
 "nbformat_minor": 4
}
