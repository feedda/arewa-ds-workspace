{
 "cells": [
  {
   "cell_type": "markdown",
   "metadata": {},
   "source": [
    "## Exercise day 13"
   ]
  },
  {
   "cell_type": "code",
   "execution_count": 1,
   "metadata": {},
   "outputs": [
    {
     "name": "stdout",
     "output_type": "stream",
     "text": [
      "....................................(Q.1).............................\n",
      "[-4, -3, -2, -1, 0]\n"
     ]
    }
   ],
   "source": [
    "print(\"....................................(Q.1).............................\")\n",
    "numbers = [-4, -3, -2, -1, 0, 2, 4, 6]\n",
    "negative_and_zero = [num for num in numbers if num <= 0]\n",
    "print(negative_and_zero)\n"
   ]
  },
  {
   "cell_type": "code",
   "execution_count": 2,
   "metadata": {},
   "outputs": [
    {
     "name": "stdout",
     "output_type": "stream",
     "text": [
      "................................... (Q.2).............................\n",
      "[1, 2, 3, 4, 5, 6, 7, 8, 9]\n"
     ]
    }
   ],
   "source": [
    "print(\"................................... (Q.2).............................\")\n",
    "list_of_lists =[[[1, 2, 3]], [[4, 5, 6]], [[7, 8, 9]]]\n",
    "flattened_list = [item for sublist1 in list_of_lists for sublist2 in sublist1 for item in sublist2]\n",
    "print(flattened_list)"
   ]
  },
  {
   "cell_type": "code",
   "execution_count": 3,
   "metadata": {},
   "outputs": [
    {
     "name": "stdout",
     "output_type": "stream",
     "text": [
      "................................... (Q.3).............................\n",
      "[(0, 1, 0, 0, 0, 0, 0), (1, 1, 1, 1, 1, 1, 1), (2, 1, 2, 4, 8, 16, 32), (3, 1, 3, 9, 27, 81, 243), (4, 1, 4, 16, 64, 256, 1024), (5, 1, 5, 25, 125, 625, 3125), (6, 1, 6, 36, 216, 1296, 7776), (7, 1, 7, 49, 343, 2401, 16807), (8, 1, 8, 64, 512, 4096, 32768), (9, 1, 9, 81, 729, 6561, 59049), (10, 1, 10, 100, 1000, 10000, 100000)]\n"
     ]
    }
   ],
   "source": [
    "print(\"................................... (Q.3).............................\")\n",
    "#Using list comprehension create the following list of tuples:\n",
    "#[(0, 1, 0, 0, 0, 0, 0),\n",
    "#(1, 1, 1, 1, 1, 1, 1),\n",
    "#(2, 1, 2, 4, 8, 16, 32),\n",
    "#(3, 1, 3, 9, 27, 81, 243),\n",
    "#(4, 1, 4, 16, 64, 256, 1024),\n",
    "#(5, 1, 5, 25, 125, 625, 3125),\n",
    "#(6, 1, 6, 36, 216, 1296, 7776),\n",
    "#(7, 1, 7, 49, 343, 2401, 16807),\n",
    "#(8, 1, 8, 64, 512, 4096, 32768),\n",
    "#(9, 1, 9, 81, 729, 6561, 59049),\n",
    "#(10, 1, 10, 100, 1000, 10000, 100000)]\n",
    "\n",
    "list_of_tuples = [(x, 1, x**1, x**2, x**3, x**4, x**5) for x in range(11)]\n",
    "print(list_of_tuples)"
   ]
  },
  {
   "cell_type": "code",
   "execution_count": 4,
   "metadata": {},
   "outputs": [
    {
     "name": "stdout",
     "output_type": "stream",
     "text": [
      "................................... (Q.4).............................\n",
      "[('Finland', 'Helsinki'), ('Sweden', 'Stockholm'), ('Norway', 'Oslo')]\n"
     ]
    }
   ],
   "source": [
    "print(\"................................... (Q.4).............................\")\n",
    "countries = [[('Finland', 'Helsinki')], [('Sweden', 'Stockholm')], [('Norway', 'Oslo')]]\n",
    "flattened_list = [item for sublist in countries for item in sublist]\n",
    "print(flattened_list)"
   ]
  },
  {
   "cell_type": "code",
   "execution_count": 5,
   "metadata": {},
   "outputs": [
    {
     "name": "stdout",
     "output_type": "stream",
     "text": [
      "................................... (Q.5).............................\n",
      "[{'country': 'FINLAND', 'city': 'HELSINKI'}, {'country': 'SWEDEN', 'city': 'STOCKHOLM'}, {'country': 'NORWAY', 'city': 'OSLO'}]\n"
     ]
    }
   ],
   "source": [
    "print(\"................................... (Q.5).............................\")\n",
    "list_of_dicts = [{'country': country.upper(), 'city': city.upper()} for sublist in countries for country, city in sublist]\n",
    "print(list_of_dicts)\n"
   ]
  },
  {
   "cell_type": "code",
   "execution_count": 6,
   "metadata": {},
   "outputs": [
    {
     "name": "stdout",
     "output_type": "stream",
     "text": [
      "................................... (Q.6).............................\n",
      "[[('Asabeneh', 'Yetayeh')], [('David', 'Smith')], [('Donald', 'Trump')], [('Bill', 'Gates')]]\n"
     ]
    }
   ],
   "source": [
    "print(\"................................... (Q.6).............................\")\n",
    "names = [[('Asabeneh', 'Yetayeh')], [('David', 'Smith')], [('Donald', 'Trump')], [('Bill', 'Gates')]]\n",
    "print(names)\n",
    "\n"
   ]
  },
  {
   "cell_type": "code",
   "execution_count": 7,
   "metadata": {},
   "outputs": [
    {
     "name": "stdout",
     "output_type": "stream",
     "text": [
      "................................... (Q.7).............................\n",
      "<function <lambda> at 0x032566B0>\n"
     ]
    }
   ],
   "source": [
    "print(\"................................... (Q.7).............................\")\n",
    "linear_eq = lambda x1, y1, x2, y2: ( (y2 - y1) / (x2 - x1), y1 - ( (y2 - y1) / (x2 - x1) ) * x1 )\n",
    "print (linear_eq)"
   ]
  },
  {
   "cell_type": "code",
   "execution_count": null,
   "metadata": {},
   "outputs": [],
   "source": []
  }
 ],
 "metadata": {
  "kernelspec": {
   "display_name": "Python 2",
   "language": "python",
   "name": "python2"
  },
  "language_info": {
   "codemirror_mode": {
    "name": "ipython",
    "version": 2
   },
   "file_extension": ".py",
   "mimetype": "text/x-python",
   "name": "python",
   "nbconvert_exporter": "python",
   "pygments_lexer": "ipython2",
   "version": "2.7.16"
  }
 },
 "nbformat": 4,
 "nbformat_minor": 2
}
