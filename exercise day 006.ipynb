{
 "cells": [
  {
   "cell_type": "markdown",
   "metadata": {},
   "source": [
    "## Exercise day 3"
   ]
  },
  {
   "cell_type": "code",
   "execution_count": 1,
   "metadata": {},
   "outputs": [
    {
     "name": "stdout",
     "output_type": "stream",
     "text": [
      "...........................Exercise Level 1 (Q. 1)............................\n",
      "('Empty Tuple :', ())\n"
     ]
    }
   ],
   "source": [
    "print(\"...........................Exercise Level 1 (Q. 1)............................\")\n",
    "tpl = ()\n",
    "print ('Empty Tuple :', tpl)\n"
   ]
  },
  {
   "cell_type": "code",
   "execution_count": 2,
   "metadata": {},
   "outputs": [
    {
     "name": "stdout",
     "output_type": "stream",
     "text": [
      "............................................(Q. 2)............................\n",
      "('Sadiq', 'Mubarak', 'Almiin', 'Abbakar')\n",
      "('Zainab', 'Mumcy')\n"
     ]
    }
   ],
   "source": [
    "print(\"............................................(Q. 2)............................\")\n",
    "male_siblings = ('Sadiq', 'Mubarak', 'Almiin', 'Abbakar')\n",
    "female_siblings = ('Zainab', 'Mumcy')\n",
    "print(male_siblings)\n",
    "print(female_siblings)"
   ]
  },
  {
   "cell_type": "code",
   "execution_count": 3,
   "metadata": {},
   "outputs": [
    {
     "name": "stdout",
     "output_type": "stream",
     "text": [
      "............................................(Q. 3)............................\n",
      "('My Siblings are:', ('Sadiq', 'Mubarak', 'Almiin', 'Abbakar', 'Zainab', 'Mumcy'))\n"
     ]
    }
   ],
   "source": [
    "print(\"............................................(Q. 3)............................\")\n",
    "siblings = male_siblings + female_siblings\n",
    "print(\"My Siblings are:\", siblings) \n"
   ]
  },
  {
   "cell_type": "code",
   "execution_count": 4,
   "metadata": {},
   "outputs": [
    {
     "name": "stdout",
     "output_type": "stream",
     "text": [
      "............................................(Q. 4)............................\n",
      "6\n"
     ]
    }
   ],
   "source": [
    "print(\"............................................(Q. 4)............................\")\n",
    "no_of_siblings = len(siblings)\n",
    "print(no_of_siblings)\n"
   ]
  },
  {
   "cell_type": "code",
   "execution_count": 5,
   "metadata": {},
   "outputs": [
    {
     "name": "stdout",
     "output_type": "stream",
     "text": [
      "............................................(Q. 5)............................\n",
      "('Sadiq', 'Mubarak', 'Almiin', 'Abbakar', 'Zainab', 'Mumcy', 'Usman', 'Hauwa')\n"
     ]
    }
   ],
   "source": [
    "print(\"............................................(Q. 5)............................\")\n",
    "father_name = \"Usman\"\n",
    "mother_name = \"Hauwa\"\n",
    "family_members = siblings + (father_name, mother_name)\n",
    "print(family_members)"
   ]
  },
  {
   "cell_type": "code",
   "execution_count": 6,
   "metadata": {},
   "outputs": [
    {
     "name": "stdout",
     "output_type": "stream",
     "text": [
      "...........................Exercise Level 1 (Q. 2)............................\n",
      "............................................(Q. 1)............................\n",
      "('Siblings:', ('Sadiq', 'Mubarak', 'Almiin', 'Abbakar', 'Zainab', 'Mumcy', 'Usman'))\n",
      "('Parents:', ('Hauwa',))\n"
     ]
    }
   ],
   "source": [
    "print(\"...........................Exercise Level 1 (Q. 2)............................\")\n",
    "\n",
    "print(\"............................................(Q. 1)............................\")\n",
    "siblings, parents = family_members[:7], family_members[7:]\n",
    "print(\"Siblings:\", siblings)\n",
    "print(\"Parents:\", parents)\n"
   ]
  },
  {
   "cell_type": "code",
   "execution_count": 7,
   "metadata": {},
   "outputs": [
    {
     "name": "stdout",
     "output_type": "stream",
     "text": [
      "............................................(Q. 2)............................\n",
      "('apple', 'banana', 'peach', 'carrot', 'lettuce', 'spinach', 'milk', 'cheese', 'eggs')\n"
     ]
    }
   ],
   "source": [
    "print(\"............................................(Q. 2)............................\")\n",
    "fruits = ('apple', 'banana', 'peach')\n",
    "vegetables = ('carrot', 'lettuce', 'spinach')\n",
    "animal_products = ('milk', 'cheese', 'eggs')\n",
    "food_stuff_tp = fruits + vegetables + animal_products\n",
    "print(food_stuff_tp)"
   ]
  },
  {
   "cell_type": "code",
   "execution_count": 8,
   "metadata": {},
   "outputs": [
    {
     "name": "stdout",
     "output_type": "stream",
     "text": [
      "............................................(Q. 3)............................\n",
      "['apple', 'banana', 'peach', 'carrot', 'lettuce', 'spinach', 'milk', 'cheese', 'eggs']\n"
     ]
    }
   ],
   "source": [
    "print(\"............................................(Q. 3)............................\")\n",
    "food_stuff_tp = fruits + vegetables + animal_products\n",
    "food_stuff_lt = list(food_stuff_tp)\n",
    "print(food_stuff_lt)"
   ]
  },
  {
   "cell_type": "code",
   "execution_count": 9,
   "metadata": {},
   "outputs": [
    {
     "name": "stdout",
     "output_type": "stream",
     "text": [
      "............................................(Q. 4)............................\n",
      "('carrot', 'lettuce', 'spinach')\n"
     ]
    }
   ],
   "source": [
    "print(\"............................................(Q. 4)............................\")\n",
    "food_stuff_tp = fruits + vegetables + animal_products\n",
    "middle_items_tp = food_stuff_tp[len(food_stuff_tp)//2-1:len(food_stuff_tp)//2+2]\n",
    "print(middle_items_tp)\n"
   ]
  },
  {
   "cell_type": "code",
   "execution_count": 10,
   "metadata": {},
   "outputs": [
    {
     "name": "stdout",
     "output_type": "stream",
     "text": [
      "............................................(Q. 5)............................\n"
     ]
    }
   ],
   "source": [
    "print(\"............................................(Q. 5)............................\")\n",
    "food_stuff_tp = fruits + vegetables + animal_products\n",
    "food_stuff_lt = list(food_stuff_tp)"
   ]
  },
  {
   "cell_type": "code",
   "execution_count": 11,
   "metadata": {},
   "outputs": [
    {
     "name": "stdout",
     "output_type": "stream",
     "text": [
      "('First three items:', ['apple', 'banana', 'peach'])\n",
      "('Last three items:', ['milk', 'cheese', 'eggs'])\n"
     ]
    }
   ],
   "source": [
    "first_three = food_stuff_lt[:3]\n",
    "last_three = food_stuff_lt[-3:]\n",
    "print(\"First three items:\", first_three)\n",
    "print(\"Last three items:\", last_three)\n"
   ]
  },
  {
   "cell_type": "code",
   "execution_count": 12,
   "metadata": {},
   "outputs": [
    {
     "name": "stdout",
     "output_type": "stream",
     "text": [
      "............................................(Q. 6)............................\n"
     ]
    }
   ],
   "source": [
    "print(\"............................................(Q. 6)............................\")\n",
    "food_stuff_tp = fruits + vegetables + animal_products\n",
    "del food_stuff_tp"
   ]
  },
  {
   "cell_type": "code",
   "execution_count": 14,
   "metadata": {},
   "outputs": [
    {
     "name": "stdout",
     "output_type": "stream",
     "text": [
      "............................................(Q. 7)............................\n",
      "Estonia is not a nordic country.\n",
      "Iceland is a nordic country.\n"
     ]
    }
   ],
   "source": [
    "print(\"............................................(Q. 7)............................\")\n",
    "nordic_countries = ('Denmark', 'Finland','Iceland', 'Norway', 'Sweden')\n",
    "\n",
    "if 'Estonia' in nordic_countries:\n",
    "    print(\"Estonia is a nordic country.\")\n",
    "else:\n",
    "    print(\"Estonia is not a nordic country.\")\n",
    "\n",
    "if 'Iceland' in nordic_countries:\n",
    "    print(\"Iceland is a nordic country.\")\n",
    "else:\n",
    "    print(\"Iceland is not a nordic country.\")\n"
   ]
  },
  {
   "cell_type": "code",
   "execution_count": null,
   "metadata": {},
   "outputs": [],
   "source": []
  }
 ],
 "metadata": {
  "kernelspec": {
   "display_name": "Python 2",
   "language": "python",
   "name": "python2"
  },
  "language_info": {
   "codemirror_mode": {
    "name": "ipython",
    "version": 2
   },
   "file_extension": ".py",
   "mimetype": "text/x-python",
   "name": "python",
   "nbconvert_exporter": "python",
   "pygments_lexer": "ipython2",
   "version": "2.7.16"
  }
 },
 "nbformat": 4,
 "nbformat_minor": 2
}
